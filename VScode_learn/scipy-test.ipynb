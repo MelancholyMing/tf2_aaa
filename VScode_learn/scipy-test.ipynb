{
 "cells": [
  {
   "cell_type": "code",
   "execution_count": 1,
   "metadata": {},
   "outputs": [],
   "source": [
    "import numpy as np"
   ]
  },
  {
   "cell_type": "code",
   "execution_count": 3,
   "metadata": {},
   "outputs": [
    {
     "name": "stdout",
     "output_type": "stream",
     "text": [
      "[1 2 3 4]\n"
     ]
    }
   ],
   "source": [
    "lis = [1,2,3,4]\n",
    "arr = np.array(lis)\n",
    "print(arr)"
   ]
  },
  {
   "cell_type": "code",
   "execution_count": 4,
   "metadata": {},
   "outputs": [
    {
     "data": {
      "text/plain": [
       "matrix([[1, 2],\n",
       "        [3, 4]])"
      ]
     },
     "execution_count": 4,
     "metadata": {},
     "output_type": "execute_result"
    }
   ],
   "source": [
    "np.matrix('1,2;3,4')"
   ]
  },
  {
   "cell_type": "code",
   "execution_count": 6,
   "metadata": {},
   "outputs": [],
   "source": [
    "from numpy import vstack,array\n",
    "from numpy.random import rand"
   ]
  },
  {
   "cell_type": "code",
   "execution_count": 8,
   "metadata": {},
   "outputs": [],
   "source": [
    "data = vstack((rand(100,3) + array([.5,.5,.5]),rand(100,3)))"
   ]
  },
  {
   "cell_type": "code",
   "execution_count": 9,
   "metadata": {},
   "outputs": [
    {
     "data": {
      "text/plain": [
       "array([[1.21206815, 0.6554178 , 0.7881773 ],\n",
       "       [0.73004012, 1.0051132 , 1.11706726],\n",
       "       [1.26931919, 0.8716334 , 1.44257626],\n",
       "       [1.21782345, 1.32030712, 1.35298959],\n",
       "       [1.37953061, 1.26387721, 1.13967105],\n",
       "       [1.01102998, 0.53085871, 1.13365988],\n",
       "       [1.22847559, 1.20652137, 0.86061337],\n",
       "       [0.95347343, 0.67424952, 0.80335184],\n",
       "       [0.74382809, 1.48721006, 0.8899137 ],\n",
       "       [1.01434315, 1.25214985, 1.42760677],\n",
       "       [1.3929928 , 0.87007298, 0.66004187],\n",
       "       [1.4806039 , 1.00285308, 1.44215111],\n",
       "       [1.04307034, 0.94026853, 0.51239087],\n",
       "       [1.33370787, 1.03074467, 0.71579686],\n",
       "       [1.49709681, 1.19930019, 1.0551957 ],\n",
       "       [0.88228857, 0.9089766 , 1.21063713],\n",
       "       [0.6446486 , 1.33058714, 0.55125785],\n",
       "       [0.87893433, 1.43063191, 1.46145597],\n",
       "       [1.30511246, 0.74454979, 0.60254057],\n",
       "       [1.28757562, 1.16372496, 1.35276068],\n",
       "       [0.9462852 , 1.33833901, 1.24826516],\n",
       "       [1.41132227, 0.51185576, 1.46803198],\n",
       "       [1.2572144 , 0.69443916, 1.20917163],\n",
       "       [0.92131728, 1.00904751, 0.87177039],\n",
       "       [1.21805252, 0.84400583, 0.64126514],\n",
       "       [0.64236824, 0.84299352, 0.73564964],\n",
       "       [1.37082211, 0.52780919, 1.04082987],\n",
       "       [0.93431502, 0.54085714, 1.46008007],\n",
       "       [0.93258157, 1.32019054, 1.41580808],\n",
       "       [1.12083836, 1.37253323, 0.85253543],\n",
       "       [1.18306078, 1.11012279, 1.30949653],\n",
       "       [1.22205741, 1.42513648, 1.17391689],\n",
       "       [0.51015475, 1.37517755, 1.14675366],\n",
       "       [0.90749692, 1.19307351, 1.04007193],\n",
       "       [1.26343213, 1.34516418, 1.0964338 ],\n",
       "       [1.21353557, 1.36262708, 0.79727307],\n",
       "       [1.20327661, 1.06208313, 0.59063636],\n",
       "       [0.62459342, 1.13608512, 0.52196602],\n",
       "       [1.39398922, 1.00472889, 0.75265058],\n",
       "       [0.70380493, 1.49100658, 0.60848982],\n",
       "       [0.91418886, 0.77983651, 1.3355203 ],\n",
       "       [1.46695525, 1.32285448, 1.11809846],\n",
       "       [1.39904146, 1.1330272 , 1.38074535],\n",
       "       [0.9406758 , 1.32372719, 0.94996861],\n",
       "       [0.87092988, 1.49291257, 1.34233976],\n",
       "       [0.72749694, 1.32070906, 1.05998896],\n",
       "       [1.25664641, 0.62561359, 0.91381334],\n",
       "       [1.06206525, 1.20975472, 0.82037731],\n",
       "       [0.92389738, 0.52921101, 0.8761764 ],\n",
       "       [0.55333131, 0.82695082, 0.85234013],\n",
       "       [0.89767398, 1.3690554 , 0.94542319],\n",
       "       [0.70381155, 0.79419786, 1.35252027],\n",
       "       [1.48496236, 0.88158168, 0.97000703],\n",
       "       [0.55437212, 1.31425018, 0.76147166],\n",
       "       [1.29841076, 0.5042319 , 0.89722091],\n",
       "       [0.87360175, 0.93305995, 0.86866441],\n",
       "       [0.81795046, 0.9870133 , 1.45737637],\n",
       "       [0.89755472, 0.78255856, 0.73510548],\n",
       "       [1.24668908, 0.61894409, 0.97168589],\n",
       "       [0.55298487, 1.34724328, 0.69332633],\n",
       "       [0.87081438, 1.25807971, 0.83466834],\n",
       "       [0.56955795, 1.28656239, 1.39885181],\n",
       "       [1.29165894, 1.15207877, 1.16192026],\n",
       "       [1.14120241, 1.30544718, 1.16549695],\n",
       "       [1.40604553, 0.61813176, 0.91772994],\n",
       "       [1.05798007, 1.2891899 , 0.71543368],\n",
       "       [1.30133275, 0.85731839, 0.57211735],\n",
       "       [0.66796279, 1.22129758, 0.80008977],\n",
       "       [1.38657015, 1.35185435, 1.10929062],\n",
       "       [0.64491679, 0.77935898, 1.42271418],\n",
       "       [0.64270699, 1.33927067, 1.19709622],\n",
       "       [1.42058597, 1.14998942, 1.34092396],\n",
       "       [1.15751591, 0.52779676, 1.41600278],\n",
       "       [1.36811231, 0.65177395, 1.42184731],\n",
       "       [0.89867552, 1.40016956, 1.05972169],\n",
       "       [1.19207076, 0.73426654, 0.89596375],\n",
       "       [1.42417117, 1.12440327, 1.45815704],\n",
       "       [0.65029444, 1.25512219, 1.19646312],\n",
       "       [1.16686602, 1.32069161, 1.00998668],\n",
       "       [0.78066025, 1.4855134 , 0.71902334],\n",
       "       [0.52118475, 1.35086596, 1.46951389],\n",
       "       [0.92984004, 0.77851146, 1.2702161 ],\n",
       "       [0.82750915, 1.29901169, 1.33604246],\n",
       "       [1.2510904 , 1.02194915, 1.11144831],\n",
       "       [0.83227676, 0.71828879, 1.39027137],\n",
       "       [0.9464295 , 1.31716836, 1.16349634],\n",
       "       [0.9570356 , 0.56897025, 0.83266904],\n",
       "       [1.17401405, 0.6600103 , 1.00282617],\n",
       "       [0.84969698, 1.17663002, 1.28472785],\n",
       "       [1.18907695, 0.82481108, 1.07019726],\n",
       "       [1.46203592, 0.55176924, 0.74934011],\n",
       "       [0.57913906, 1.47704458, 0.78900883],\n",
       "       [1.017546  , 1.03681671, 1.11528702],\n",
       "       [1.45051506, 0.53961224, 1.37276962],\n",
       "       [1.2334302 , 1.04272416, 1.41874661],\n",
       "       [1.28107579, 1.20142272, 1.18268762],\n",
       "       [1.17991146, 1.15922531, 1.1860824 ],\n",
       "       [0.80910468, 1.49103324, 1.06234705],\n",
       "       [1.49701503, 1.17519289, 0.88345571],\n",
       "       [1.38751551, 1.28610206, 1.26162225],\n",
       "       [0.74495795, 0.84417391, 0.54769446],\n",
       "       [0.42950675, 0.96751885, 0.42877162],\n",
       "       [0.81090186, 0.72172996, 0.71460244],\n",
       "       [0.62543239, 0.53071574, 0.37349911],\n",
       "       [0.5706438 , 0.07259044, 0.21132679],\n",
       "       [0.56985936, 0.27226695, 0.2626515 ],\n",
       "       [0.20169868, 0.67076889, 0.82911527],\n",
       "       [0.11956659, 0.63672053, 0.17237749],\n",
       "       [0.84289332, 0.53822775, 0.88791901],\n",
       "       [0.3642031 , 0.79450342, 0.89128234],\n",
       "       [0.10255511, 0.07938611, 0.86370332],\n",
       "       [0.31844255, 0.8483758 , 0.00947963],\n",
       "       [0.2951724 , 0.33180793, 0.21823538],\n",
       "       [0.40629556, 0.9584599 , 0.22742649],\n",
       "       [0.81979777, 0.43315513, 0.612494  ],\n",
       "       [0.59164363, 0.03977323, 0.53239666],\n",
       "       [0.9679833 , 0.48179205, 0.71670712],\n",
       "       [0.80090356, 0.06126635, 0.66674556],\n",
       "       [0.53138522, 0.45031941, 0.08426363],\n",
       "       [0.77030599, 0.18916477, 0.33098043],\n",
       "       [0.32717547, 0.06578812, 0.45597246],\n",
       "       [0.58446385, 0.17513476, 0.75245276],\n",
       "       [0.76423704, 0.2211307 , 0.35325716],\n",
       "       [0.88698563, 0.06909127, 0.26149932],\n",
       "       [0.36861518, 0.71261858, 0.07973112],\n",
       "       [0.98102056, 0.3853214 , 0.22918762],\n",
       "       [0.54877739, 0.59536345, 0.70768915],\n",
       "       [0.8206848 , 0.93089057, 0.84806286],\n",
       "       [0.99195126, 0.46967563, 0.20888511],\n",
       "       [0.67561462, 0.39411228, 0.89194828],\n",
       "       [0.68931173, 0.24099138, 0.58788612],\n",
       "       [0.32609616, 0.53514413, 0.31572623],\n",
       "       [0.21025148, 0.94172405, 0.80256021],\n",
       "       [0.33641126, 0.80539238, 0.90733241],\n",
       "       [0.21713314, 0.79288353, 0.23054958],\n",
       "       [0.80958411, 0.66460709, 0.56207781],\n",
       "       [0.24918157, 0.4812604 , 0.27710334],\n",
       "       [0.67556561, 0.17278192, 0.30268743],\n",
       "       [0.68449043, 0.15200988, 0.0398459 ],\n",
       "       [0.52213296, 0.89680119, 0.19742061],\n",
       "       [0.63703633, 0.12253813, 0.37104581],\n",
       "       [0.57740454, 0.25199927, 0.48193026],\n",
       "       [0.43436431, 0.61046865, 0.35021152],\n",
       "       [0.58895596, 0.61711692, 0.37733779],\n",
       "       [0.28709714, 0.32681825, 0.66170375],\n",
       "       [0.50960234, 0.69943988, 0.41112853],\n",
       "       [0.17452446, 0.39263081, 0.29489356],\n",
       "       [0.98429165, 0.19888764, 0.06217237],\n",
       "       [0.62304351, 0.587539  , 0.00364132],\n",
       "       [0.91771417, 0.52028385, 0.38355233],\n",
       "       [0.46320504, 0.50656003, 0.37462535],\n",
       "       [0.95320084, 0.93149684, 0.1842224 ],\n",
       "       [0.90175513, 0.68415112, 0.0593105 ],\n",
       "       [0.23751345, 0.00695943, 0.96034216],\n",
       "       [0.90155289, 0.95604455, 0.40322   ],\n",
       "       [0.73300455, 0.11409548, 0.9482604 ],\n",
       "       [0.72417828, 0.0942696 , 0.10764747],\n",
       "       [0.71894327, 0.41909247, 0.36502512],\n",
       "       [0.49118147, 0.42304028, 0.37710264],\n",
       "       [0.04200349, 0.56936445, 0.14320355],\n",
       "       [0.19208626, 0.33532802, 0.96215479],\n",
       "       [0.84152165, 0.20554002, 0.16413072],\n",
       "       [0.5416783 , 0.39055597, 0.47294773],\n",
       "       [0.97449591, 0.06726451, 0.63853145],\n",
       "       [0.31530257, 0.92322338, 0.96575308],\n",
       "       [0.33570946, 0.54047806, 0.79097541],\n",
       "       [0.03945169, 0.78549271, 0.66318712],\n",
       "       [0.10767159, 0.49594528, 0.88404308],\n",
       "       [0.81069823, 0.50529862, 0.2853696 ],\n",
       "       [0.9919245 , 0.72980703, 0.76679801],\n",
       "       [0.25313554, 0.58016052, 0.56270209],\n",
       "       [0.45586361, 0.38890331, 0.66549585],\n",
       "       [0.84589416, 0.11668877, 0.50674678],\n",
       "       [0.03461719, 0.10499834, 0.15570007],\n",
       "       [0.29868064, 0.43655332, 0.75916497],\n",
       "       [0.19753839, 0.59789633, 0.9584706 ],\n",
       "       [0.58320817, 0.77797838, 0.92390498],\n",
       "       [0.75167273, 0.30074347, 0.42686162],\n",
       "       [0.93697374, 0.66394404, 0.1187843 ],\n",
       "       [0.74434024, 0.82300591, 0.96063384],\n",
       "       [0.34830315, 0.45517954, 0.36594857],\n",
       "       [0.06729741, 0.85304292, 0.89435017],\n",
       "       [0.70336822, 0.08660502, 0.29717078],\n",
       "       [0.32847618, 0.10580063, 0.65935471],\n",
       "       [0.53146314, 0.470324  , 0.02472607],\n",
       "       [0.40055008, 0.74605176, 0.87402636],\n",
       "       [0.85036289, 0.02277179, 0.3350169 ],\n",
       "       [0.59955328, 0.39402422, 0.4555283 ],\n",
       "       [0.25299565, 0.81789442, 0.25759187],\n",
       "       [0.23994045, 0.55907497, 0.41349052],\n",
       "       [0.12607974, 0.0203857 , 0.32880563],\n",
       "       [0.52712518, 0.65260658, 0.21237904],\n",
       "       [0.89011209, 0.36659161, 0.80039369],\n",
       "       [0.02036812, 0.92052846, 0.95031599],\n",
       "       [0.8167166 , 0.53949285, 0.65735856],\n",
       "       [0.43023575, 0.68041703, 0.29265689],\n",
       "       [0.51735743, 0.37787049, 0.5747976 ],\n",
       "       [0.02217406, 0.17282305, 0.40808345],\n",
       "       [0.38872443, 0.86363719, 0.34604074],\n",
       "       [0.43996922, 0.09444303, 0.2926994 ]])"
      ]
     },
     "execution_count": 9,
     "metadata": {},
     "output_type": "execute_result"
    }
   ],
   "source": [
    "data"
   ]
  },
  {
   "cell_type": "code",
   "execution_count": 10,
   "metadata": {},
   "outputs": [],
   "source": [
    "a = np.arange(5)*2"
   ]
  },
  {
   "cell_type": "code",
   "execution_count": 11,
   "metadata": {},
   "outputs": [
    {
     "data": {
      "text/plain": [
       "array([0, 2, 4, 6, 8])"
      ]
     },
     "execution_count": 11,
     "metadata": {},
     "output_type": "execute_result"
    }
   ],
   "source": [
    "a\n"
   ]
  },
  {
   "cell_type": "code",
   "execution_count": 12,
   "metadata": {},
   "outputs": [],
   "source": [
    "a = np.arange(5)**2"
   ]
  },
  {
   "cell_type": "code",
   "execution_count": 13,
   "metadata": {},
   "outputs": [
    {
     "data": {
      "text/plain": [
       "array([ 0,  1,  4,  9, 16])"
      ]
     },
     "execution_count": 13,
     "metadata": {},
     "output_type": "execute_result"
    }
   ],
   "source": [
    "a"
   ]
  },
  {
   "cell_type": "code",
   "execution_count": 25,
   "metadata": {},
   "outputs": [],
   "source": [
    "a = np.arange(24).reshape(2,3,4)"
   ]
  },
  {
   "cell_type": "code",
   "execution_count": 16,
   "metadata": {},
   "outputs": [
    {
     "data": {
      "text/plain": [
       "array([[[ 0,  1,  2,  3],\n",
       "        [ 4,  5,  6,  7],\n",
       "        [ 8,  9, 10, 11]],\n",
       "\n",
       "       [[12, 13, 14, 15],\n",
       "        [16, 17, 18, 19],\n",
       "        [20, 21, 22, 23]]])"
      ]
     },
     "execution_count": 16,
     "metadata": {},
     "output_type": "execute_result"
    }
   ],
   "source": [
    "a"
   ]
  },
  {
   "cell_type": "code",
   "execution_count": 17,
   "metadata": {},
   "outputs": [
    {
     "data": {
      "text/plain": [
       "array([ 0,  1,  2,  3,  4,  5,  6,  7,  8,  9, 10, 11, 12, 13, 14, 15, 16,\n",
       "       17, 18, 19, 20, 21, 22, 23])"
      ]
     },
     "execution_count": 17,
     "metadata": {},
     "output_type": "execute_result"
    }
   ],
   "source": [
    "a.ravel()\n"
   ]
  },
  {
   "cell_type": "code",
   "execution_count": 18,
   "metadata": {},
   "outputs": [
    {
     "data": {
      "text/plain": [
       "array([[[ 0,  1,  2,  3],\n",
       "        [ 4,  5,  6,  7],\n",
       "        [ 8,  9, 10, 11]],\n",
       "\n",
       "       [[12, 13, 14, 15],\n",
       "        [16, 17, 18, 19],\n",
       "        [20, 21, 22, 23]]])"
      ]
     },
     "execution_count": 18,
     "metadata": {},
     "output_type": "execute_result"
    }
   ],
   "source": [
    "a"
   ]
  },
  {
   "cell_type": "code",
   "execution_count": 19,
   "metadata": {},
   "outputs": [
    {
     "data": {
      "text/plain": [
       "array([ 0,  1,  2,  3,  4,  5,  6,  7,  8,  9, 10, 11, 12, 13, 14, 15, 16,\n",
       "       17, 18, 19, 20, 21, 22, 23])"
      ]
     },
     "execution_count": 19,
     "metadata": {},
     "output_type": "execute_result"
    }
   ],
   "source": [
    "a.flatten()"
   ]
  },
  {
   "cell_type": "code",
   "execution_count": 20,
   "metadata": {},
   "outputs": [
    {
     "data": {
      "text/plain": [
       "array([[[ 0,  1,  2,  3],\n",
       "        [ 4,  5,  6,  7],\n",
       "        [ 8,  9, 10, 11]],\n",
       "\n",
       "       [[12, 13, 14, 15],\n",
       "        [16, 17, 18, 19],\n",
       "        [20, 21, 22, 23]]])"
      ]
     },
     "execution_count": 20,
     "metadata": {},
     "output_type": "execute_result"
    }
   ],
   "source": [
    "a"
   ]
  },
  {
   "cell_type": "code",
   "execution_count": 21,
   "metadata": {},
   "outputs": [],
   "source": [
    "b = a\n",
    "b.shape = (6,4)"
   ]
  },
  {
   "cell_type": "code",
   "execution_count": 22,
   "metadata": {
    "scrolled": true
   },
   "outputs": [
    {
     "data": {
      "text/plain": [
       "array([[ 0,  1,  2,  3],\n",
       "       [ 4,  5,  6,  7],\n",
       "       [ 8,  9, 10, 11],\n",
       "       [12, 13, 14, 15],\n",
       "       [16, 17, 18, 19],\n",
       "       [20, 21, 22, 23]])"
      ]
     },
     "execution_count": 22,
     "metadata": {},
     "output_type": "execute_result"
    }
   ],
   "source": [
    "b"
   ]
  },
  {
   "cell_type": "code",
   "execution_count": 26,
   "metadata": {
    "scrolled": true
   },
   "outputs": [
    {
     "data": {
      "text/plain": [
       "array([[[ 0, 12],\n",
       "        [ 4, 16],\n",
       "        [ 8, 20]],\n",
       "\n",
       "       [[ 1, 13],\n",
       "        [ 5, 17],\n",
       "        [ 9, 21]],\n",
       "\n",
       "       [[ 2, 14],\n",
       "        [ 6, 18],\n",
       "        [10, 22]],\n",
       "\n",
       "       [[ 3, 15],\n",
       "        [ 7, 19],\n",
       "        [11, 23]]])"
      ]
     },
     "execution_count": 26,
     "metadata": {},
     "output_type": "execute_result"
    }
   ],
   "source": [
    "a.transpose()"
   ]
  },
  {
   "cell_type": "code",
   "execution_count": 27,
   "metadata": {
    "scrolled": true
   },
   "outputs": [
    {
     "data": {
      "text/plain": [
       "array([[[ 0,  1,  2,  3],\n",
       "        [ 4,  5,  6,  7],\n",
       "        [ 8,  9, 10, 11]],\n",
       "\n",
       "       [[12, 13, 14, 15],\n",
       "        [16, 17, 18, 19],\n",
       "        [20, 21, 22, 23]]])"
      ]
     },
     "execution_count": 27,
     "metadata": {},
     "output_type": "execute_result"
    }
   ],
   "source": [
    "a"
   ]
  },
  {
   "cell_type": "code",
   "execution_count": 28,
   "metadata": {},
   "outputs": [],
   "source": [
    "a = np.arange(9).reshape(3,3)"
   ]
  },
  {
   "cell_type": "code",
   "execution_count": 29,
   "metadata": {},
   "outputs": [],
   "source": [
    "b= a*2"
   ]
  },
  {
   "cell_type": "code",
   "execution_count": 30,
   "metadata": {},
   "outputs": [
    {
     "data": {
      "text/plain": [
       "array([[0, 1, 2],\n",
       "       [3, 4, 5],\n",
       "       [6, 7, 8]])"
      ]
     },
     "execution_count": 30,
     "metadata": {},
     "output_type": "execute_result"
    }
   ],
   "source": [
    "a"
   ]
  },
  {
   "cell_type": "code",
   "execution_count": 31,
   "metadata": {},
   "outputs": [
    {
     "data": {
      "text/plain": [
       "array([[ 0,  2,  4],\n",
       "       [ 6,  8, 10],\n",
       "       [12, 14, 16]])"
      ]
     },
     "execution_count": 31,
     "metadata": {},
     "output_type": "execute_result"
    }
   ],
   "source": [
    "b"
   ]
  },
  {
   "cell_type": "code",
   "execution_count": 35,
   "metadata": {},
   "outputs": [
    {
     "data": {
      "text/plain": [
       "array([[[ 0,  0],\n",
       "        [ 1,  2],\n",
       "        [ 2,  4]],\n",
       "\n",
       "       [[ 3,  6],\n",
       "        [ 4,  8],\n",
       "        [ 5, 10]],\n",
       "\n",
       "       [[ 6, 12],\n",
       "        [ 7, 14],\n",
       "        [ 8, 16]]])"
      ]
     },
     "execution_count": 35,
     "metadata": {},
     "output_type": "execute_result"
    }
   ],
   "source": [
    "np.dstack((a,b))"
   ]
  },
  {
   "cell_type": "code",
   "execution_count": 36,
   "metadata": {},
   "outputs": [
    {
     "data": {
      "text/plain": [
       "array([[ 0,  1,  2],\n",
       "       [ 3,  4,  5],\n",
       "       [ 6,  7,  8],\n",
       "       [ 0,  2,  4],\n",
       "       [ 6,  8, 10],\n",
       "       [12, 14, 16]])"
      ]
     },
     "execution_count": 36,
     "metadata": {},
     "output_type": "execute_result"
    }
   ],
   "source": [
    "np.concatenate((a,b),axis=0)"
   ]
  },
  {
   "cell_type": "code",
   "execution_count": 37,
   "metadata": {},
   "outputs": [
    {
     "data": {
      "text/plain": [
       "array([[ 0,  1,  2,  0,  2,  4],\n",
       "       [ 3,  4,  5,  6,  8, 10],\n",
       "       [ 6,  7,  8, 12, 14, 16]])"
      ]
     },
     "execution_count": 37,
     "metadata": {},
     "output_type": "execute_result"
    }
   ],
   "source": [
    "np.concatenate((a,b),axis=1)"
   ]
  },
  {
   "cell_type": "code",
   "execution_count": 39,
   "metadata": {},
   "outputs": [
    {
     "ename": "AxisError",
     "evalue": "axis 2 is out of bounds for array of dimension 2",
     "output_type": "error",
     "traceback": [
      "\u001b[0;31m---------------------------------------------------------------------------\u001b[0m",
      "\u001b[0;31mAxisError\u001b[0m                                 Traceback (most recent call last)",
      "\u001b[0;32m<ipython-input-39-443a173328c7>\u001b[0m in \u001b[0;36m<module>\u001b[0;34m\u001b[0m\n\u001b[0;32m----> 1\u001b[0;31m \u001b[0mnp\u001b[0m\u001b[0;34m.\u001b[0m\u001b[0mconcatenate\u001b[0m\u001b[0;34m(\u001b[0m\u001b[0;34m(\u001b[0m\u001b[0ma\u001b[0m\u001b[0;34m,\u001b[0m\u001b[0mb\u001b[0m\u001b[0;34m)\u001b[0m\u001b[0;34m,\u001b[0m\u001b[0maxis\u001b[0m\u001b[0;34m=\u001b[0m\u001b[0;36m2\u001b[0m\u001b[0;34m)\u001b[0m\u001b[0;34m\u001b[0m\u001b[0;34m\u001b[0m\u001b[0m\n\u001b[0m",
      "\u001b[0;32m<__array_function__ internals>\u001b[0m in \u001b[0;36mconcatenate\u001b[0;34m(*args, **kwargs)\u001b[0m\n",
      "\u001b[0;31mAxisError\u001b[0m: axis 2 is out of bounds for array of dimension 2"
     ]
    }
   ],
   "source": [
    "np.concatenate((a,b),axis=2)"
   ]
  },
  {
   "cell_type": "code",
   "execution_count": 40,
   "metadata": {},
   "outputs": [],
   "source": [
    "oned = np.arange(2)"
   ]
  },
  {
   "cell_type": "code",
   "execution_count": 41,
   "metadata": {},
   "outputs": [],
   "source": [
    "tw = oned*2"
   ]
  },
  {
   "cell_type": "code",
   "execution_count": 43,
   "metadata": {},
   "outputs": [
    {
     "data": {
      "text/plain": [
       "array([0, 1, 0, 2])"
      ]
     },
     "execution_count": 43,
     "metadata": {},
     "output_type": "execute_result"
    }
   ],
   "source": [
    "np.hstack((oned,tw))"
   ]
  },
  {
   "cell_type": "code",
   "execution_count": 44,
   "metadata": {},
   "outputs": [],
   "source": [
    "c = np.arange(36).reshape(3,3,4)"
   ]
  },
  {
   "cell_type": "code",
   "execution_count": 45,
   "metadata": {},
   "outputs": [
    {
     "data": {
      "text/plain": [
       "array([[[ 0,  1,  2,  3],\n",
       "        [ 4,  5,  6,  7],\n",
       "        [ 8,  9, 10, 11]],\n",
       "\n",
       "       [[12, 13, 14, 15],\n",
       "        [16, 17, 18, 19],\n",
       "        [20, 21, 22, 23]],\n",
       "\n",
       "       [[24, 25, 26, 27],\n",
       "        [28, 29, 30, 31],\n",
       "        [32, 33, 34, 35]]])"
      ]
     },
     "execution_count": 45,
     "metadata": {},
     "output_type": "execute_result"
    }
   ],
   "source": [
    "c"
   ]
  },
  {
   "cell_type": "code",
   "execution_count": 46,
   "metadata": {},
   "outputs": [
    {
     "data": {
      "text/plain": [
       "[array([[[ 0],\n",
       "         [ 4],\n",
       "         [ 8]],\n",
       " \n",
       "        [[12],\n",
       "         [16],\n",
       "         [20]],\n",
       " \n",
       "        [[24],\n",
       "         [28],\n",
       "         [32]]]),\n",
       " array([[[ 1],\n",
       "         [ 5],\n",
       "         [ 9]],\n",
       " \n",
       "        [[13],\n",
       "         [17],\n",
       "         [21]],\n",
       " \n",
       "        [[25],\n",
       "         [29],\n",
       "         [33]]]),\n",
       " array([[[ 2],\n",
       "         [ 6],\n",
       "         [10]],\n",
       " \n",
       "        [[14],\n",
       "         [18],\n",
       "         [22]],\n",
       " \n",
       "        [[26],\n",
       "         [30],\n",
       "         [34]]]),\n",
       " array([[[ 3],\n",
       "         [ 7],\n",
       "         [11]],\n",
       " \n",
       "        [[15],\n",
       "         [19],\n",
       "         [23]],\n",
       " \n",
       "        [[27],\n",
       "         [31],\n",
       "         [35]]])]"
      ]
     },
     "execution_count": 46,
     "metadata": {},
     "output_type": "execute_result"
    }
   ],
   "source": [
    "np.dsplit(c,4)"
   ]
  },
  {
   "cell_type": "code",
   "execution_count": 49,
   "metadata": {},
   "outputs": [],
   "source": [
    "d = np.arange(54).reshape(3,3,6)"
   ]
  },
  {
   "cell_type": "code",
   "execution_count": 50,
   "metadata": {},
   "outputs": [
    {
     "data": {
      "text/plain": [
       "array([[[ 0,  1,  2,  3,  4,  5],\n",
       "        [ 6,  7,  8,  9, 10, 11],\n",
       "        [12, 13, 14, 15, 16, 17]],\n",
       "\n",
       "       [[18, 19, 20, 21, 22, 23],\n",
       "        [24, 25, 26, 27, 28, 29],\n",
       "        [30, 31, 32, 33, 34, 35]],\n",
       "\n",
       "       [[36, 37, 38, 39, 40, 41],\n",
       "        [42, 43, 44, 45, 46, 47],\n",
       "        [48, 49, 50, 51, 52, 53]]])"
      ]
     },
     "execution_count": 50,
     "metadata": {},
     "output_type": "execute_result"
    }
   ],
   "source": [
    "d"
   ]
  },
  {
   "cell_type": "code",
   "execution_count": 51,
   "metadata": {},
   "outputs": [
    {
     "data": {
      "text/plain": [
       "[array([[[ 0,  1],\n",
       "         [ 6,  7],\n",
       "         [12, 13]],\n",
       " \n",
       "        [[18, 19],\n",
       "         [24, 25],\n",
       "         [30, 31]],\n",
       " \n",
       "        [[36, 37],\n",
       "         [42, 43],\n",
       "         [48, 49]]]),\n",
       " array([[[ 2,  3],\n",
       "         [ 8,  9],\n",
       "         [14, 15]],\n",
       " \n",
       "        [[20, 21],\n",
       "         [26, 27],\n",
       "         [32, 33]],\n",
       " \n",
       "        [[38, 39],\n",
       "         [44, 45],\n",
       "         [50, 51]]]),\n",
       " array([[[ 4,  5],\n",
       "         [10, 11],\n",
       "         [16, 17]],\n",
       " \n",
       "        [[22, 23],\n",
       "         [28, 29],\n",
       "         [34, 35]],\n",
       " \n",
       "        [[40, 41],\n",
       "         [46, 47],\n",
       "         [52, 53]]])]"
      ]
     },
     "execution_count": 51,
     "metadata": {},
     "output_type": "execute_result"
    }
   ],
   "source": [
    "np.dsplit(d,3)"
   ]
  },
  {
   "cell_type": "code",
   "execution_count": 52,
   "metadata": {},
   "outputs": [
    {
     "data": {
      "text/plain": [
       "[array([[[ 0,  1],\n",
       "         [ 6,  7],\n",
       "         [12, 13]],\n",
       " \n",
       "        [[18, 19],\n",
       "         [24, 25],\n",
       "         [30, 31]],\n",
       " \n",
       "        [[36, 37],\n",
       "         [42, 43],\n",
       "         [48, 49]]]),\n",
       " array([[[ 2,  3],\n",
       "         [ 8,  9],\n",
       "         [14, 15]],\n",
       " \n",
       "        [[20, 21],\n",
       "         [26, 27],\n",
       "         [32, 33]],\n",
       " \n",
       "        [[38, 39],\n",
       "         [44, 45],\n",
       "         [50, 51]]]),\n",
       " array([[[ 4,  5],\n",
       "         [10, 11],\n",
       "         [16, 17]],\n",
       " \n",
       "        [[22, 23],\n",
       "         [28, 29],\n",
       "         [34, 35]],\n",
       " \n",
       "        [[40, 41],\n",
       "         [46, 47],\n",
       "         [52, 53]]])]"
      ]
     },
     "execution_count": 52,
     "metadata": {},
     "output_type": "execute_result"
    }
   ],
   "source": [
    "np.split(d,3,axis=2)"
   ]
  },
  {
   "cell_type": "code",
   "execution_count": 53,
   "metadata": {},
   "outputs": [
    {
     "data": {
      "text/plain": [
       "3"
      ]
     },
     "execution_count": 53,
     "metadata": {},
     "output_type": "execute_result"
    }
   ],
   "source": [
    "d.ndim"
   ]
  },
  {
   "cell_type": "code",
   "execution_count": 55,
   "metadata": {},
   "outputs": [
    {
     "data": {
      "text/plain": [
       "54"
      ]
     },
     "execution_count": 55,
     "metadata": {},
     "output_type": "execute_result"
    }
   ],
   "source": [
    "d.size"
   ]
  },
  {
   "cell_type": "code",
   "execution_count": 56,
   "metadata": {},
   "outputs": [
    {
     "data": {
      "text/plain": [
       "432"
      ]
     },
     "execution_count": 56,
     "metadata": {},
     "output_type": "execute_result"
    }
   ],
   "source": [
    "d.nbytes"
   ]
  },
  {
   "cell_type": "code",
   "execution_count": 57,
   "metadata": {},
   "outputs": [],
   "source": [
    "b = np.arange(4).reshape(2,2)"
   ]
  },
  {
   "cell_type": "code",
   "execution_count": 58,
   "metadata": {},
   "outputs": [],
   "source": [
    "f = b.flat"
   ]
  },
  {
   "cell_type": "code",
   "execution_count": 59,
   "metadata": {},
   "outputs": [
    {
     "data": {
      "text/plain": [
       "<numpy.flatiter at 0x7f9b5691b000>"
      ]
     },
     "execution_count": 59,
     "metadata": {},
     "output_type": "execute_result"
    }
   ],
   "source": [
    "f"
   ]
  },
  {
   "cell_type": "code",
   "execution_count": 66,
   "metadata": {},
   "outputs": [
    {
     "data": {
      "text/plain": [
       "[]"
      ]
     },
     "execution_count": 66,
     "metadata": {},
     "output_type": "execute_result"
    }
   ],
   "source": [
    "[i for i in f]"
   ]
  },
  {
   "cell_type": "code",
   "execution_count": 67,
   "metadata": {},
   "outputs": [
    {
     "data": {
      "text/plain": [
       "array([[0, 1],\n",
       "       [2, 3]])"
      ]
     },
     "execution_count": 67,
     "metadata": {},
     "output_type": "execute_result"
    }
   ],
   "source": [
    "b"
   ]
  },
  {
   "cell_type": "code",
   "execution_count": 69,
   "metadata": {},
   "outputs": [
    {
     "data": {
      "text/plain": [
       "2"
      ]
     },
     "execution_count": 69,
     "metadata": {},
     "output_type": "execute_result"
    }
   ],
   "source": [
    "b.flat[2]"
   ]
  },
  {
   "cell_type": "code",
   "execution_count": 70,
   "metadata": {},
   "outputs": [
    {
     "data": {
      "text/plain": [
       "array([[0, 1],\n",
       "       [2, 3]])"
      ]
     },
     "execution_count": 70,
     "metadata": {},
     "output_type": "execute_result"
    }
   ],
   "source": [
    "b"
   ]
  },
  {
   "cell_type": "code",
   "execution_count": 71,
   "metadata": {},
   "outputs": [
    {
     "data": {
      "text/plain": [
       "array([1, 3])"
      ]
     },
     "execution_count": 71,
     "metadata": {},
     "output_type": "execute_result"
    }
   ],
   "source": [
    "b.flat[[1,3]]"
   ]
  },
  {
   "cell_type": "code",
   "execution_count": 72,
   "metadata": {},
   "outputs": [
    {
     "data": {
      "text/plain": [
       "<numpy.flatiter at 0x7f9b5691b000>"
      ]
     },
     "execution_count": 72,
     "metadata": {},
     "output_type": "execute_result"
    }
   ],
   "source": [
    "f"
   ]
  },
  {
   "cell_type": "code",
   "execution_count": 77,
   "metadata": {},
   "outputs": [
    {
     "data": {
      "text/plain": [
       "array([1, 2, 3])"
      ]
     },
     "execution_count": 77,
     "metadata": {},
     "output_type": "execute_result"
    }
   ],
   "source": [
    "f[1:4]"
   ]
  },
  {
   "cell_type": "code",
   "execution_count": 78,
   "metadata": {},
   "outputs": [
    {
     "name": "stdout",
     "output_type": "stream",
     "text": [
      "0\n",
      "1\n",
      "2\n",
      "3\n"
     ]
    }
   ],
   "source": [
    "for item in f:\n",
    "    print(item)"
   ]
  },
  {
   "cell_type": "code",
   "execution_count": 79,
   "metadata": {},
   "outputs": [],
   "source": [
    "b = np.array([[1.+1.j,3.+2.j]])"
   ]
  },
  {
   "cell_type": "code",
   "execution_count": 80,
   "metadata": {},
   "outputs": [
    {
     "data": {
      "text/plain": [
       "array([[1.+1.j, 3.+2.j]])"
      ]
     },
     "execution_count": 80,
     "metadata": {},
     "output_type": "execute_result"
    }
   ],
   "source": [
    "b"
   ]
  },
  {
   "cell_type": "code",
   "execution_count": 81,
   "metadata": {},
   "outputs": [
    {
     "name": "stderr",
     "output_type": "stream",
     "text": [
      "<ipython-input-81-3edadc125634>:1: ComplexWarning: Casting complex values to real discards the imaginary part\n",
      "  b.astype(int)\n"
     ]
    },
    {
     "data": {
      "text/plain": [
       "array([[1, 3]])"
      ]
     },
     "execution_count": 81,
     "metadata": {},
     "output_type": "execute_result"
    }
   ],
   "source": [
    "b.astype(int)"
   ]
  },
  {
   "cell_type": "code",
   "execution_count": null,
   "metadata": {},
   "outputs": [],
   "source": []
  }
 ],
 "metadata": {
  "kernelspec": {
   "display_name": "Python 3",
   "language": "python",
   "name": "python3"
  },
  "language_info": {
   "codemirror_mode": {
    "name": "ipython",
    "version": 3
   },
   "file_extension": ".py",
   "mimetype": "text/x-python",
   "name": "python",
   "nbconvert_exporter": "python",
   "pygments_lexer": "ipython3",
   "version": "3.8.5"
  }
 },
 "nbformat": 4,
 "nbformat_minor": 4
}
