{
 "cells": [
  {
   "cell_type": "code",
   "execution_count": 1,
   "metadata": {},
   "outputs": [],
   "source": [
    "import os\n",
    "import numpy as np\n",
    "import pandas as pd\n",
    "import tensorflow as tf\n",
    "import matplotlib.pyplot as plt\n",
    "import math\n",
    "from tensorflow.keras.layers import Dropout, SimpleRNN, Dense\n",
    "from sklearn.preprocessing import MinMaxScaler\n",
    "from sklearn.metrics import mean_squared_error, mean_absolute_error"
   ]
  },
  {
   "cell_type": "code",
   "execution_count": 5,
   "metadata": {},
   "outputs": [],
   "source": [
    "maotai = pd.read_csv(\"./SH600519.csv\")  # 读取股票文件\n",
    "\n",
    "training_set = maotai.iloc[0:2426 - 300, 2:3].values  # 前(2426-300=2126)天的开盘价作为训练集,表格从0开始计数，2:3 是提取[2:3)列，前闭后开,故提取出C列开盘价\n",
    "test_set = maotai.iloc[2426-300: , 2:3].values"
   ]
  },
  {
   "cell_type": "code",
   "execution_count": 8,
   "metadata": {},
   "outputs": [],
   "source": [
    "# 归一化\n",
    "sc = MinMaxScaler(feature_range=(0,1))  # 定义归一化：归一化到(0，1)之间\n",
    "training_set_scaled = sc.fit_transform(training_set)  # 求得训练集的最大值，最小值这些训练集固有的属性，并在训练集上进行归一化\n",
    "test_set = sc.fit_transform(test_set)"
   ]
  },
  {
   "cell_type": "code",
   "execution_count": 10,
   "metadata": {},
   "outputs": [
    {
     "data": {
      "text/plain": [
       "array([[0.4523692 ],\n",
       "       [0.45964956],\n",
       "       [0.4643386 ],\n",
       "       ...,\n",
       "       [0.05923001],\n",
       "       [0.06663376],\n",
       "       [0.06910168]])"
      ]
     },
     "execution_count": 10,
     "metadata": {},
     "output_type": "execute_result"
    }
   ],
   "source": [
    "training_set_scaled"
   ]
  },
  {
   "cell_type": "code",
   "execution_count": 15,
   "metadata": {},
   "outputs": [],
   "source": [
    "x_train, y_train = [], []\n",
    "x_test, y_test = [], []"
   ]
  },
  {
   "cell_type": "code",
   "execution_count": 16,
   "metadata": {},
   "outputs": [],
   "source": [
    "# 利用for循环，遍历整个训练集，提取训练集中连续60天的开盘价作为输入特征x_train，第61天的数据作为标签，for循环共构建2426-300-60=2066组数据。\n",
    "for i in range(60,len(training_set_scaled)):\n",
    "    x_train.append(training_set_scaled[i-60:i, 0])\n",
    "    y_train.append(training_set_scaled[i, 0])"
   ]
  },
  {
   "cell_type": "code",
   "execution_count": 17,
   "metadata": {},
   "outputs": [],
   "source": [
    "# 对训练集进行打乱\n",
    "np.random.seed(7)\n",
    "np.random.shuffle(x_train)\n",
    "np.random.seed(7)\n",
    "np.random.shuffle(y_train)\n",
    "tf.random.set_seed(7)\n",
    "\n",
    "# 使x_train符合RNN输入要求：[送入样本数， 循环核时间展开步数， 每个时间步输入特征个数]。\n",
    "# 此处整个数据集送入，送入样本数为x_train.shape[0]即2066组数据；输入60个开盘价，预测出第61天的开盘价，循环核时间展开步数为60; 每个时间步送入的特征是某一天的开盘价，只有1个数据，故每个时间步输入特征个数为1\n",
    "x_train = np.reshape(x_train, (len(x_train), 60, 1))\n",
    "y_train = np.array(y_train)"
   ]
  },
  {
   "cell_type": "code",
   "execution_count": 18,
   "metadata": {},
   "outputs": [],
   "source": [
    "for i in range(60 , len(test_set)):\n",
    "    x_test.append(test_set[i-60:i,0])\n",
    "    y_test.append(test_set[i, 0])\n",
    "\n",
    "x_test = np.reshape(x_test,(len(x_test),60,1))\n",
    "y_test = np.array(y_test)"
   ]
  },
  {
   "cell_type": "code",
   "execution_count": 20,
   "metadata": {},
   "outputs": [
    {
     "name": "stdout",
     "output_type": "stream",
     "text": [
      "Epoch 1/50\n",
      "33/33 [==============================] - 2s 26ms/step - loss: 0.2721 - val_loss: 0.0184\n",
      "Epoch 2/50\n",
      "33/33 [==============================] - ETA: 0s - loss: 0.0286- ETA: 0s - loss: - 1s 18ms/step - loss: 0.0285 - val_loss: 0.0133\n",
      "Epoch 3/50\n",
      "33/33 [==============================] - 1s 18ms/step - loss: 0.0160 - val_loss: 0.0089- ETA: 0s - loss: 0.\n",
      "Epoch 4/50\n",
      "33/33 [==============================] - 1s 18ms/step - loss: 0.0112 - val_loss: 0.0080\n",
      "Epoch 5/50\n",
      "33/33 [==============================] - 1s 17ms/step - loss: 0.0096 - val_loss: 0.0062\n",
      "Epoch 6/50\n",
      "33/33 [==============================] - 1s 17ms/step - loss: 0.0075 - val_loss: 0.0057\n",
      "Epoch 7/50\n",
      "33/33 [==============================] - 1s 18ms/step - loss: 0.0067 - val_loss: 0.0049\n",
      "Epoch 8/50\n",
      "33/33 [==============================] - 1s 18ms/step - loss: 0.0053 - val_loss: 0.0047\n",
      "Epoch 9/50\n",
      "33/33 [==============================] - 1s 17ms/step - loss: 0.0049 - val_loss: 0.0048\n",
      "Epoch 10/50\n",
      "33/33 [==============================] - 1s 18ms/step - loss: 0.0050 - val_loss: 0.0038\n",
      "Epoch 11/50\n",
      "33/33 [==============================] - 1s 17ms/step - loss: 0.0039 - val_loss: 0.0035\n",
      "Epoch 12/50\n",
      "33/33 [==============================] - 1s 19ms/step - loss: 0.0034 - val_loss: 0.0034\n",
      "Epoch 13/50\n",
      "33/33 [==============================] - 1s 18ms/step - loss: 0.0035 - val_loss: 0.0032\n",
      "Epoch 14/50\n",
      "33/33 [==============================] - 1s 18ms/step - loss: 0.0028 - val_loss: 0.0032\n",
      "Epoch 15/50\n",
      "33/33 [==============================] - 1s 18ms/step - loss: 0.0028 - val_loss: 0.0033\n",
      "Epoch 16/50\n",
      "33/33 [==============================] - 1s 17ms/step - loss: 0.0025 - val_loss: 0.0032\n",
      "Epoch 17/50\n",
      "33/33 [==============================] - 1s 18ms/step - loss: 0.0025 - val_loss: 0.0032\n",
      "Epoch 18/50\n",
      "33/33 [==============================] - ETA: 0s - loss: 0.002 - 1s 16ms/step - loss: 0.0024 - val_loss: 0.0028\n",
      "Epoch 19/50\n",
      "33/33 [==============================] - 1s 18ms/step - loss: 0.0024 - val_loss: 0.0029\n",
      "Epoch 20/50\n",
      "33/33 [==============================] - 1s 18ms/step - loss: 0.0022 - val_loss: 0.0026\n",
      "Epoch 21/50\n",
      "33/33 [==============================] - 1s 18ms/step - loss: 0.0021 - val_loss: 0.0027\n",
      "Epoch 22/50\n",
      "33/33 [==============================] - 1s 19ms/step - loss: 0.0022 - val_loss: 0.0028\n",
      "Epoch 23/50\n",
      "33/33 [==============================] - 1s 18ms/step - loss: 0.0019 - val_loss: 0.0026\n",
      "Epoch 24/50\n",
      "33/33 [==============================] - 1s 19ms/step - loss: 0.0018 - val_loss: 0.0025\n",
      "Epoch 25/50\n",
      "33/33 [==============================] - 1s 19ms/step - loss: 0.0020 - val_loss: 0.0026\n",
      "Epoch 26/50\n",
      "33/33 [==============================] - 1s 18ms/step - loss: 0.0017 - val_loss: 0.0025\n",
      "Epoch 27/50\n",
      "33/33 [==============================] - 1s 18ms/step - loss: 0.0016 - val_loss: 0.0025\n",
      "Epoch 28/50\n",
      "33/33 [==============================] - 1s 19ms/step - loss: 0.0016 - val_loss: 0.0025\n",
      "Epoch 29/50\n",
      "33/33 [==============================] - 1s 18ms/step - loss: 0.0016 - val_loss: 0.0026\n",
      "Epoch 30/50\n",
      "33/33 [==============================] - 1s 19ms/step - loss: 0.0014 - val_loss: 0.0025\n",
      "Epoch 31/50\n",
      "33/33 [==============================] - 1s 19ms/step - loss: 0.0017 - val_loss: 0.0025\n",
      "Epoch 32/50\n",
      "33/33 [==============================] - 1s 18ms/step - loss: 0.0015 - val_loss: 0.0025\n",
      "Epoch 33/50\n",
      "33/33 [==============================] - 1s 19ms/step - loss: 0.0014 - val_loss: 0.0025\n",
      "Epoch 34/50\n",
      "33/33 [==============================] - 1s 18ms/step - loss: 0.0013 - val_loss: 0.0025\n",
      "Epoch 35/50\n",
      "33/33 [==============================] - 1s 18ms/step - loss: 0.0014 - val_loss: 0.0024\n",
      "Epoch 36/50\n",
      "33/33 [==============================] - 1s 18ms/step - loss: 0.0015 - val_loss: 0.0025\n",
      "Epoch 37/50\n",
      "33/33 [==============================] - 1s 16ms/step - loss: 0.0013 - val_loss: 0.0024\n",
      "Epoch 38/50\n",
      "33/33 [==============================] - 1s 17ms/step - loss: 0.0014 - val_loss: 0.0025\n",
      "Epoch 39/50\n",
      "33/33 [==============================] - 1s 17ms/step - loss: 0.0013 - val_loss: 0.0024\n",
      "Epoch 40/50\n",
      "33/33 [==============================] - 1s 18ms/step - loss: 0.0013 - val_loss: 0.0025\n",
      "Epoch 41/50\n",
      "33/33 [==============================] - 1s 18ms/step - loss: 0.0012 - val_loss: 0.0024\n",
      "Epoch 42/50\n",
      "33/33 [==============================] - 1s 18ms/step - loss: 0.0012 - val_loss: 0.0024\n",
      "Epoch 43/50\n",
      "33/33 [==============================] - 1s 17ms/step - loss: 0.0011 - val_loss: 0.0025\n",
      "Epoch 44/50\n",
      "33/33 [==============================] - 1s 18ms/step - loss: 0.0010 - val_loss: 0.0026\n",
      "Epoch 45/50\n",
      "33/33 [==============================] - 1s 19ms/step - loss: 0.0011 - val_loss: 0.0025\n",
      "Epoch 46/50\n",
      "33/33 [==============================] - 1s 16ms/step - loss: 0.0011 - val_loss: 0.0024\n",
      "Epoch 47/50\n",
      "33/33 [==============================] - 1s 17ms/step - loss: 0.0010 - val_loss: 0.0025\n",
      "Epoch 48/50\n",
      "33/33 [==============================] - 1s 18ms/step - loss: 0.0010 - val_loss: 0.0027\n",
      "Epoch 49/50\n",
      "33/33 [==============================] - 1s 18ms/step - loss: 0.0011 - val_loss: 0.0025\n",
      "Epoch 50/50\n",
      "33/33 [==============================] - 1s 18ms/step - loss: 9.0187e-04 - val_loss: 0.0024\n",
      "Model: \"sequential\"\n",
      "_________________________________________________________________\n",
      "Layer (type)                 Output Shape              Param #   \n",
      "=================================================================\n",
      "simple_rnn (SimpleRNN)       (None, 60, 80)            6560      \n",
      "_________________________________________________________________\n",
      "dropout (Dropout)            (None, 60, 80)            0         \n",
      "_________________________________________________________________\n",
      "simple_rnn_1 (SimpleRNN)     (None, 100)               18100     \n",
      "_________________________________________________________________\n",
      "dropout_1 (Dropout)          (None, 100)               0         \n",
      "_________________________________________________________________\n",
      "dense (Dense)                (None, 1)                 101       \n",
      "=================================================================\n",
      "Total params: 24,761\n",
      "Trainable params: 24,761\n",
      "Non-trainable params: 0\n",
      "_________________________________________________________________\n"
     ]
    }
   ],
   "source": [
    "model = tf.keras.Sequential([\n",
    "    SimpleRNN(80, return_sequences=True),\n",
    "    Dropout(0.2),\n",
    "    SimpleRNN(100),\n",
    "    Dropout(0.2),\n",
    "    Dense(1)\n",
    "])\n",
    "\n",
    "model.compile(optimizer=tf.keras.optimizers.Adam(0.001),\n",
    "             loss = 'mean_squared_error')  # 损失函数用均方误差\n",
    "# 该应用只观测loss数值，不观测准确率，所以删去metrics选项，一会在每个epoch迭代显示时只显示loss值\n",
    "\n",
    "model_savepath = \"./maotai_stock_checkpoint/rnn_stock.ckpt\"\n",
    "\n",
    "if os.path.exists(model_savepath+'.index'):\n",
    "    print(\"======================load model=======================\")\n",
    "    model.load_weights(model_savepath)\n",
    "\n",
    "cp_callback = tf.keras.callbacks.ModelCheckpoint(filepath=model_savepath,\n",
    "                                                save_weights_only=True,\n",
    "                                                save_best_only=True,\n",
    "                                                monitor='val_loss')\n",
    "\n",
    "history = model.fit(x_train, y_train, batch_size=64,epochs=50, validation_data=(x_test, y_test),validation_freq=1,\n",
    "                   callbacks=[cp_callback])\n",
    "\n",
    "model.summary()"
   ]
  },
  {
   "cell_type": "code",
   "execution_count": 23,
   "metadata": {},
   "outputs": [],
   "source": [
    "with open(\"./maotai_stock_weights.txt\", 'w') as f:\n",
    "    for v in model.trainable_variables:\n",
    "        f.write(str(v.name)+'\\n')\n",
    "        f.write(str(v.shape)+'\\n')\n",
    "        f.write(str(v.numpy())+'\\n')"
   ]
  },
  {
   "cell_type": "code",
   "execution_count": 24,
   "metadata": {},
   "outputs": [
    {
     "data": {
      "image/png": "[encoded data removed]",
      "text/plain": [
       "<Figure size 432x288 with 1 Axes>"
      ]
     },
     "metadata": {
      "needs_background": "light"
     },
     "output_type": "display_data"
    }
   ],
   "source": [
    "loss = history.history['loss']\n",
    "val_loss = history.history['val_loss']\n",
    "\n",
    "plt.plot(loss, label='training loss')\n",
    "plt.plot(val_loss, label='validation loss')\n",
    "plt.title(\"training and validation loss\")\n",
    "plt.legend()\n",
    "plt.show()"
   ]
  },
  {
   "cell_type": "code",
   "execution_count": 26,
   "metadata": {},
   "outputs": [
    {
     "data": {
      "image/png": "[encoded data removed]",
      "text/plain": [
       "<Figure size 432x288 with 1 Axes>"
      ]
     },
     "metadata": {
      "needs_background": "light"
     },
     "output_type": "display_data"
    }
   ],
   "source": [
    "# 测试集输入模型进行预测\n",
    "predicted_stock_price = model.predict(x_test)\n",
    "# 对预测数据还原---从（0，1）反归一化到原始范围\n",
    "predicted_stock_price = sc.inverse_transform(predicted_stock_price)\n",
    "# 对真实数据还原---从（0，1）反归一化到原始范围\n",
    "real_stock_price = sc.inverse_transform(test_set[60:])\n",
    "\n",
    "plt.plot(real_stock_price, color='red', label='maotai stock price')\n",
    "plt.plot(predicted_stock_price, color='blue', label='predicted maotai stock price')\n",
    "plt.title(\"maotai staocl proce prediction\")\n",
    "plt.xlabel(\"time\")\n",
    "plt.ylabel(\"Maotai stock price\")\n",
    "plt.legend()\n",
    "plt.show()"
   ]
  },
  {
   "cell_type": "code",
   "execution_count": 27,
   "metadata": {},
   "outputs": [
    {
     "name": "stdout",
     "output_type": "stream",
     "text": [
      "均方误差: 0.004321\n",
      "均方根误差: 0.065731\n",
      "平均绝对误差: 0.042905\n"
     ]
    }
   ],
   "source": [
    "# calculate MSE 均方误差 ---> E[(预测值-真实值)^2] (预测值减真实值求平方后求均值)\n",
    "mse = mean_squared_error(predicted_stock_price, real_stock_price)\n",
    "# calculate RMSE 均方根误差--->sqrt[MSE]    (对均方误差开方)\n",
    "rmse = math.sqrt(mse)\n",
    "# calculate MAE 平均绝对误差----->E[|预测值-真实值|](预测值减真实值求绝对值后求均值）\n",
    "mae = mean_absolute_error(predicted_stock_price, real_stock_price)\n",
    "print('均方误差: %.6f' % mse)\n",
    "print('均方根误差: %.6f' % rmse)\n",
    "print('平均绝对误差: %.6f' % mae)\n"
   ]
  },
  {
   "cell_type": "code",
   "execution_count": 30,
   "metadata": {
    "scrolled": false
   },
   "outputs": [
    {
     "name": "stdout",
     "output_type": "stream",
     "text": [
      "{'loss': [0.13601800799369812, 0.024911755695939064, 0.014838560484349728, 0.010873634368181229, 0.008822268806397915, 0.007336225360631943, 0.006359804887324572, 0.00495923962444067, 0.005187851842492819, 0.004602258093655109, 0.0036488529294729233, 0.003424456575885415, 0.0029852772131562233, 0.0027721894439309835, 0.0026612814981490374, 0.0025629126466810703, 0.0025855826679617167, 0.0025219013914465904, 0.0022951364517211914, 0.0019504541996866465, 0.002127106999978423, 0.0020006047561764717, 0.0019139255164191127, 0.001978879561647773, 0.001818982302211225, 0.0018198308534920216, 0.001570081920363009, 0.0015917078126221895, 0.001608360675163567, 0.001437319559045136, 0.0015484885079786181, 0.0014920494286343455, 0.0013779106084257364, 0.0014278965536504984, 0.001316042966209352, 0.0014444664120674133, 0.0014561408897861838, 0.0012802202254533768, 0.0012442957377061248, 0.0012487706262618303, 0.0012367927702143788, 0.001120000146329403, 0.0011402753880247474, 0.001089946017600596, 0.001125298091210425, 0.001105582108721137, 0.0010535549372434616, 0.0009776673978194594, 0.0011284175561740994, 0.0009258283535018563], 'val_loss': [0.018359845504164696, 0.013304808177053928, 0.008887391537427902, 0.007976488210260868, 0.0061836703680455685, 0.005702257622033358, 0.004889458417892456, 0.004693998955190182, 0.004752312321215868, 0.0037756466772407293, 0.0035254727117717266, 0.003368846606463194, 0.0032164244912564754, 0.003171442076563835, 0.00328448205254972, 0.003160452004522085, 0.00319417635910213, 0.002788649871945381, 0.0029451772570610046, 0.002630885224789381, 0.0026667427737265825, 0.0027945309411734343, 0.0026269848458468914, 0.0025483809877187014, 0.002585913520306349, 0.002539296867325902, 0.0025369073264300823, 0.0025417690631002188, 0.0025662065017968416, 0.0025337960105389357, 0.002487707883119583, 0.002485546749085188, 0.0024688958656042814, 0.0024998411536216736, 0.0024170915130525827, 0.00245529692620039, 0.0024493946693837643, 0.0024605460930615664, 0.0024261262733489275, 0.0024532638490200043, 0.0024351691827178, 0.002360647078603506, 0.002459381241351366, 0.002567304065451026, 0.0025007082149386406, 0.002382130129262805, 0.00247927731834352, 0.0026732292026281357, 0.002457999624311924, 0.0024425245355814695]}\n"
     ]
    }
   ],
   "source": [
    "print(history.history)"
   ]
  },
  {
   "cell_type": "code",
   "execution_count": null,
   "metadata": {},
   "outputs": [],
   "source": []
  }
 ],
 "metadata": {
  "kernelspec": {
   "display_name": "Python 3",
   "language": "python",
   "name": "python3"
  },
  "language_info": {
   "codemirror_mode": {
    "name": "ipython",
    "version": 3
   },
   "file_extension": ".py",
   "mimetype": "text/x-python",
   "name": "python",
   "nbconvert_exporter": "python",
   "pygments_lexer": "ipython3",
   "version": "3.8.5"
  }
 },
 "nbformat": 4,
 "nbformat_minor": 4
}
