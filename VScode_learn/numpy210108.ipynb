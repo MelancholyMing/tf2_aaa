{
 "cells": [
  {
   "cell_type": "code",
   "execution_count": 1,
   "metadata": {},
   "outputs": [],
   "source": [
    "import numpy as np"
   ]
  },
  {
   "cell_type": "code",
   "execution_count": 2,
   "metadata": {},
   "outputs": [],
   "source": [
    "# 用NumPy的linalg模块中的solve函数求解线性方程组\n",
    "A = np.mat(\"1 -2 1; 0 2 -8; -4 5 9\")"
   ]
  },
  {
   "cell_type": "code",
   "execution_count": 3,
   "metadata": {},
   "outputs": [],
   "source": [
    "b = np.array([0, 8, -9])"
   ]
  },
  {
   "cell_type": "code",
   "execution_count": 4,
   "metadata": {},
   "outputs": [],
   "source": [
    "x = np.linalg.solve(A,b)"
   ]
  },
  {
   "cell_type": "code",
   "execution_count": 5,
   "metadata": {},
   "outputs": [
    {
     "data": {
      "text/plain": [
       "array([29., 16.,  3.])"
      ]
     },
     "execution_count": 5,
     "metadata": {},
     "output_type": "execute_result"
    }
   ],
   "source": [
    "x"
   ]
  },
  {
   "cell_type": "code",
   "execution_count": 6,
   "metadata": {},
   "outputs": [
    {
     "data": {
      "text/plain": [
       "matrix([[ 0.,  8., -9.]])"
      ]
     },
     "execution_count": 6,
     "metadata": {},
     "output_type": "execute_result"
    }
   ],
   "source": [
    "np.dot(A,x)"
   ]
  },
  {
   "cell_type": "code",
   "execution_count": 8,
   "metadata": {},
   "outputs": [],
   "source": [
    "A = np.mat(\"3 -2;1 0\")"
   ]
  },
  {
   "cell_type": "code",
   "execution_count": 9,
   "metadata": {},
   "outputs": [
    {
     "data": {
      "text/plain": [
       "array([2., 1.])"
      ]
     },
     "execution_count": 9,
     "metadata": {},
     "output_type": "execute_result"
    }
   ],
   "source": [
    "# 调用eigvals函数求解特征值\n",
    "np.linalg.eigvals(A)"
   ]
  },
  {
   "cell_type": "code",
   "execution_count": 10,
   "metadata": {},
   "outputs": [
    {
     "data": {
      "text/plain": [
       "(array([2., 1.]),\n",
       " matrix([[0.89442719, 0.70710678],\n",
       "         [0.4472136 , 0.70710678]]))"
      ]
     },
     "execution_count": 10,
     "metadata": {},
     "output_type": "execute_result"
    }
   ],
   "source": [
    "# 使用eig函数求解特征值和特征向量\n",
    "np.linalg.eig(A)"
   ]
  },
  {
   "cell_type": "code",
   "execution_count": 15,
   "metadata": {},
   "outputs": [
    {
     "name": "stdout",
     "output_type": "stream",
     "text": [
      "eigenvalues: [2. 1.]\n",
      "eigenvectors: [[0.89442719 0.70710678]\n",
      " [0.4472136  0.70710678]]\n",
      "left: [[1.78885438]\n",
      " [0.89442719]]\n",
      "right: [[1.78885438]\n",
      " [0.89442719]]\n",
      "left: [[0.70710678]\n",
      " [0.70710678]]\n",
      "right: [[0.70710678]\n",
      " [0.70710678]]\n"
     ]
    }
   ],
   "source": [
    "eigenvalues, eigenvectors = np.linalg.eig(A)\n",
    "print('eigenvalues:',eigenvalues)\n",
    "print('eigenvectors:', eigenvectors)\n",
    "for i in range(len(eigenvalues)):\n",
    "    print('left:',np.dot(A,eigenvectors[:,i]))\n",
    "    print('right:',np.dot(eigenvalues[i],eigenvectors[:,i]))"
   ]
  },
  {
   "cell_type": "code",
   "execution_count": 16,
   "metadata": {},
   "outputs": [
    {
     "name": "stdout",
     "output_type": "stream",
     "text": [
      "[[ 4 11 14]\n",
      " [ 8  7 -2]]\n"
     ]
    }
   ],
   "source": [
    "# 奇异值分解\n",
    "\"\"\"SVD（Singular Value Decomposition，奇异值分解）是一种因子分解运算，将一个矩阵分解\n",
    "为3个矩阵的乘积。奇异值分解是前面讨论过的特征值分解的一种推广。在numpy.linalg模块\n",
    "中的svd函数可以对矩阵进行奇异值分解。该函数返回3个矩阵——U、Sigma和V，其中U和V是\n",
    "正交矩阵，Sigma包含输入矩阵的奇异值。\"\"\"\n",
    "A = np.mat(\"4 11 14;8 7 -2\")\n",
    "print(A)"
   ]
  },
  {
   "cell_type": "code",
   "execution_count": 17,
   "metadata": {},
   "outputs": [],
   "source": [
    "U, Sigma, V = np.linalg.svd(A, full_matrices=False)"
   ]
  },
  {
   "cell_type": "code",
   "execution_count": 18,
   "metadata": {},
   "outputs": [
    {
     "data": {
      "text/plain": [
       "matrix([[ 0.9486833 , -0.31622777],\n",
       "        [ 0.31622777,  0.9486833 ]])"
      ]
     },
     "execution_count": 18,
     "metadata": {},
     "output_type": "execute_result"
    }
   ],
   "source": [
    "U"
   ]
  },
  {
   "cell_type": "code",
   "execution_count": 19,
   "metadata": {},
   "outputs": [
    {
     "data": {
      "text/plain": [
       "array([18.97366596,  9.48683298])"
      ]
     },
     "execution_count": 19,
     "metadata": {},
     "output_type": "execute_result"
    }
   ],
   "source": [
    "Sigma"
   ]
  },
  {
   "cell_type": "code",
   "execution_count": 20,
   "metadata": {},
   "outputs": [
    {
     "data": {
      "text/plain": [
       "matrix([[ 0.33333333,  0.66666667,  0.66666667],\n",
       "        [ 0.66666667,  0.33333333, -0.66666667]])"
      ]
     },
     "execution_count": 20,
     "metadata": {},
     "output_type": "execute_result"
    }
   ],
   "source": [
    "V"
   ]
  },
  {
   "cell_type": "code",
   "execution_count": 21,
   "metadata": {},
   "outputs": [
    {
     "data": {
      "text/plain": [
       "matrix([[ 4., 11., 14.],\n",
       "        [ 8.,  7., -2.]])"
      ]
     },
     "execution_count": 21,
     "metadata": {},
     "output_type": "execute_result"
    }
   ],
   "source": [
    "U*np.diag(Sigma)*V"
   ]
  },
  {
   "cell_type": "code",
   "execution_count": 22,
   "metadata": {},
   "outputs": [],
   "source": [
    "# 广义逆矩阵\n",
    "\"\"\"\n",
    "https://zh.wikipedia.org/wiki/%E5%B9%BF%E4%B9%89%E9%80%86%E9%98%B5\n",
    "广义逆 （Generalized inverse）[1]，是 线性代数中针对矩阵的一种运算。一个矩阵 A 的广义逆叫做 A 的 广义逆阵，是指具有部分逆矩阵的特性，但是不一定具有逆矩阵的所有特性的另一矩阵。假设一矩阵{\\displaystyle A\\in \\mathbb {R} ^{n\\times m}}{\\displaystyle A\\in \\mathbb {R} ^{n\\times m}} 及另一矩阵{\\displaystyle A^{\\mathrm {g} }\\in \\mathbb {R} ^{m\\times n}}{\\displaystyle A^{\\mathrm {g} }\\in \\mathbb {R} ^{m\\times n}}，若{\\displaystyle A^{\\mathrm {g} }}{\\displaystyle A^{\\mathrm {g} }} 满足{\\displaystyle AA^{\\mathrm {g} }A=A}{\\displaystyle AA^{\\mathrm {g} }A=A}，则{\\displaystyle A^{\\mathrm {g} }}{\\displaystyle A^{\\mathrm {g} }} 即为{\\displaystyle A}A 的广义逆阵。\n",
    "\n",
    "广义逆也称为伪逆（pseudoinverse）[2]，有些时候，伪逆特指摩尔－彭若斯广义逆。\"\"\"\n",
    "\n",
    "A = np.mat(\"4 11 14;8 7 -2\")\n",
    "pseudoinv = np.linalg.pinv(A)"
   ]
  },
  {
   "cell_type": "code",
   "execution_count": 23,
   "metadata": {},
   "outputs": [
    {
     "data": {
      "text/plain": [
       "matrix([[-0.00555556,  0.07222222],\n",
       "        [ 0.02222222,  0.04444444],\n",
       "        [ 0.05555556, -0.05555556]])"
      ]
     },
     "execution_count": 23,
     "metadata": {},
     "output_type": "execute_result"
    }
   ],
   "source": [
    "pseudoinv"
   ]
  },
  {
   "cell_type": "code",
   "execution_count": 25,
   "metadata": {},
   "outputs": [
    {
     "data": {
      "text/plain": [
       "matrix([[ 1.00000000e+00, -4.44089210e-16],\n",
       "        [-1.66533454e-16,  1.00000000e+00]])"
      ]
     },
     "execution_count": 25,
     "metadata": {},
     "output_type": "execute_result"
    }
   ],
   "source": [
    "A*pseudoinv"
   ]
  },
  {
   "cell_type": "code",
   "execution_count": 46,
   "metadata": {},
   "outputs": [],
   "source": [
    "# 计算矩阵的行列式\n",
    "A = np.mat(\"3 4;5 6\")"
   ]
  },
  {
   "cell_type": "code",
   "execution_count": 47,
   "metadata": {},
   "outputs": [
    {
     "data": {
      "text/plain": [
       "matrix([[3, 4],\n",
       "        [5, 6]])"
      ]
     },
     "execution_count": 47,
     "metadata": {},
     "output_type": "execute_result"
    }
   ],
   "source": [
    "A"
   ]
  },
  {
   "cell_type": "code",
   "execution_count": 48,
   "metadata": {},
   "outputs": [
    {
     "data": {
      "text/plain": [
       "-2.0000000000000004"
      ]
     },
     "execution_count": 48,
     "metadata": {},
     "output_type": "execute_result"
    }
   ],
   "source": [
    "np.linalg.det(A)"
   ]
  },
  {
   "cell_type": "code",
   "execution_count": 40,
   "metadata": {},
   "outputs": [],
   "source": [
    "# 计算傅里叶变换\n",
    "\"\"\"快速傅里叶变换\n",
    "FFT（Fast Fourier Transform，快速傅里叶变换）是一种高效的计算DFT（Discrete Fourier\n",
    "Transform，离散傅里叶变换）的算法。FFT算法比根据定义直接计算更快，计算复杂度为\n",
    "O(NlogN) 。DFT在信号处理、图像处理、求解偏微分方程等方面都有应用。在NumPy中，有一\n",
    "个名为fft的模块提供了快速傅里叶变换的功能。在这个模块中，许多函数都是成对存在的，也\n",
    "就是说许多函数存在对应的逆操作函数。例如，fft和ifft函数就是其中的一对。\"\"\"\n",
    "# 创建一个包含30个点的余弦波信号\n",
    "x = np.linspace(0, 2 * np.pi, 30)\n",
    "wave = np.cos(x)"
   ]
  },
  {
   "cell_type": "code",
   "execution_count": 41,
   "metadata": {},
   "outputs": [
    {
     "data": {
      "text/plain": [
       "array([0.        , 0.21666156, 0.43332312, 0.64998469, 0.86664625,\n",
       "       1.08330781, 1.29996937, 1.51663094, 1.7332925 , 1.94995406,\n",
       "       2.16661562, 2.38327719, 2.59993875, 2.81660031, 3.03326187,\n",
       "       3.24992343, 3.466585  , 3.68324656, 3.89990812, 4.11656968,\n",
       "       4.33323125, 4.54989281, 4.76655437, 4.98321593, 5.1998775 ,\n",
       "       5.41653906, 5.63320062, 5.84986218, 6.06652374, 6.28318531])"
      ]
     },
     "execution_count": 41,
     "metadata": {},
     "output_type": "execute_result"
    }
   ],
   "source": [
    "x"
   ]
  },
  {
   "cell_type": "code",
   "execution_count": 42,
   "metadata": {
    "scrolled": true
   },
   "outputs": [
    {
     "data": {
      "text/plain": [
       "array([ 1.        ,  0.97662056,  0.90757542,  0.79609307,  0.64738628,\n",
       "        0.46840844,  0.26752834,  0.05413891, -0.161782  , -0.37013816,\n",
       "       -0.56118707, -0.72599549, -0.85685718, -0.94765317, -0.99413796,\n",
       "       -0.99413796, -0.94765317, -0.85685718, -0.72599549, -0.56118707,\n",
       "       -0.37013816, -0.161782  ,  0.05413891,  0.26752834,  0.46840844,\n",
       "        0.64738628,  0.79609307,  0.90757542,  0.97662056,  1.        ])"
      ]
     },
     "execution_count": 42,
     "metadata": {},
     "output_type": "execute_result"
    }
   ],
   "source": [
    "wave"
   ]
  },
  {
   "cell_type": "code",
   "execution_count": 43,
   "metadata": {},
   "outputs": [],
   "source": [
    "# 使用fft函数对余弦波信号进行傅里叶变换\n",
    "transformed = np.fft.fft(wave)"
   ]
  },
  {
   "cell_type": "code",
   "execution_count": 44,
   "metadata": {},
   "outputs": [
    {
     "data": {
      "text/plain": [
       "array([ 1.00000000e+00+0.00000000e+00j,  1.51429692e+01+1.59159020e+00j,\n",
       "       -3.54637811e-01-7.53805938e-02j, -1.26172176e-01-4.09958251e-02j,\n",
       "       -6.34546692e-02-2.82518389e-02j, -3.67893978e-02-2.12403687e-02j,\n",
       "       -2.29208558e-02-1.66529765e-02j, -1.48053525e-02-1.33307993e-02j,\n",
       "       -9.68211900e-03-1.07530825e-02j, -6.28279669e-03-8.64752777e-03j,\n",
       "       -3.95826880e-03-6.85592267e-03j, -2.35015558e-03-5.27853586e-03j,\n",
       "       -1.25027516e-03-3.84795127e-03j, -5.34677680e-04-2.51546071e-03j,\n",
       "       -1.30679679e-04-1.24333409e-03j,  5.64218811e-16-3.53883589e-16j,\n",
       "       -1.30679679e-04+1.24333409e-03j, -5.34677680e-04+2.51546071e-03j,\n",
       "       -1.25027516e-03+3.84795127e-03j, -2.35015558e-03+5.27853586e-03j,\n",
       "       -3.95826880e-03+6.85592267e-03j, -6.28279669e-03+8.64752777e-03j,\n",
       "       -9.68211900e-03+1.07530825e-02j, -1.48053525e-02+1.33307993e-02j,\n",
       "       -2.29208558e-02+1.66529765e-02j, -3.67893978e-02+2.12403687e-02j,\n",
       "       -6.34546692e-02+2.82518389e-02j, -1.26172176e-01+4.09958251e-02j,\n",
       "       -3.54637811e-01+7.53805938e-02j,  1.51429692e+01-1.59159020e+00j])"
      ]
     },
     "execution_count": 44,
     "metadata": {},
     "output_type": "execute_result"
    }
   ],
   "source": [
    "transformed"
   ]
  },
  {
   "cell_type": "code",
   "execution_count": 50,
   "metadata": {},
   "outputs": [
    {
     "data": {
      "text/plain": [
       "True"
      ]
     },
     "execution_count": 50,
     "metadata": {},
     "output_type": "execute_result"
    }
   ],
   "source": [
    "# 对变换后的结果应用ifft函数，应该可以近似地还原初始信号。\n",
    "np.all(np.abs(np.fft.ifft(transformed)-wave)< 10**-9)"
   ]
  },
  {
   "cell_type": "code",
   "execution_count": 51,
   "metadata": {},
   "outputs": [],
   "source": [
    "import matplotlib.pyplot as plt"
   ]
  },
  {
   "cell_type": "code",
   "execution_count": 52,
   "metadata": {},
   "outputs": [
    {
     "name": "stderr",
     "output_type": "stream",
     "text": [
      "D:\\workApp\\anaconda\\lib\\site-packages\\numpy\\core\\_asarray.py:83: ComplexWarning: Casting complex values to real discards the imaginary part\n",
      "  return array(a, dtype, copy=False, order=order)\n"
     ]
    },
    {
     "data": {
      "image/png": "[encoded data removed]",
      "text/plain": [
       "<Figure size 432x288 with 1 Axes>"
      ]
     },
     "metadata": {
      "needs_background": "light"
     },
     "output_type": "display_data"
    }
   ],
   "source": [
    "plt.plot(transformed)\n",
    "plt.show()"
   ]
  },
  {
   "cell_type": "code",
   "execution_count": 53,
   "metadata": {},
   "outputs": [],
   "source": [
    "# 使用fftshift函数进行移频操作\n",
    "shifted = np.fft.fftshift(transformed)\n"
   ]
  },
  {
   "cell_type": "code",
   "execution_count": 54,
   "metadata": {},
   "outputs": [
    {
     "data": {
      "text/plain": [
       "True"
      ]
     },
     "execution_count": 54,
     "metadata": {},
     "output_type": "execute_result"
    }
   ],
   "source": [
    "np.all((np.fft.ifftshift(shifted)-transformed)< 10**-7)"
   ]
  },
  {
   "cell_type": "code",
   "execution_count": 55,
   "metadata": {},
   "outputs": [
    {
     "name": "stderr",
     "output_type": "stream",
     "text": [
      "D:\\workApp\\anaconda\\lib\\site-packages\\numpy\\core\\_asarray.py:83: ComplexWarning: Casting complex values to real discards the imaginary part\n",
      "  return array(a, dtype, copy=False, order=order)\n",
      "D:\\workApp\\anaconda\\lib\\site-packages\\numpy\\core\\_asarray.py:83: ComplexWarning: Casting complex values to real discards the imaginary part\n",
      "  return array(a, dtype, copy=False, order=order)\n"
     ]
    },
    {
     "data": {
      "image/png": "[encoded data removed]",
      "text/plain": [
       "<Figure size 432x288 with 1 Axes>"
      ]
     },
     "metadata": {
      "needs_background": "light"
     },
     "output_type": "display_data"
    }
   ],
   "source": [
    "plt.plot(transformed, lw=2)\n",
    "plt.plot(shifted, lw=3)\n",
    "plt.show()"
   ]
  },
  {
   "cell_type": "code",
   "execution_count": 56,
   "metadata": {},
   "outputs": [
    {
     "data": {
      "text/plain": [
       "'随机数在蒙特卡罗方法（Monto Carlo method）、随机积分等很多方面都有应用。真随机数的\\n产生很困难，因此在实际应用中我们通常使用伪随机数。在大部分应用场景下，伪随机数已经足\\n够随机，当然一些特殊应用除外。有关随机数的函数可以在NumPy的random模块中找到。随机\\n数发生器的核心算法是基于马特赛特旋转演算法（Mersenne Twister algorithm）的。随机数可以\\n从离散分布或连续分布中产生。分布函数有一个可选的参数size，用于指定需要产生的随机数\\n的数量。该参数允许设置为一个整数或元组，生成的随机数将填满指定形状的数组。支持的离散\\n分布包括几何分布、超几何分布和二项分布等。'"
      ]
     },
     "execution_count": 56,
     "metadata": {},
     "output_type": "execute_result"
    }
   ],
   "source": [
    "\"\"\"随机数在蒙特卡罗方法（Monto Carlo method）、随机积分等很多方面都有应用。真随机数的\n",
    "产生很困难，因此在实际应用中我们通常使用伪随机数。在大部分应用场景下，伪随机数已经足\n",
    "够随机，当然一些特殊应用除外。有关随机数的函数可以在NumPy的random模块中找到。随机\n",
    "数发生器的核心算法是基于马特赛特旋转演算法（Mersenne Twister algorithm）的。随机数可以\n",
    "从离散分布或连续分布中产生。分布函数有一个可选的参数size，用于指定需要产生的随机数\n",
    "的数量。该参数允许设置为一个整数或元组，生成的随机数将填满指定形状的数组。支持的离散\n",
    "分布包括几何分布、超几何分布和二项分布等。\"\"\""
   ]
  },
  {
   "cell_type": "code",
   "execution_count": 57,
   "metadata": {},
   "outputs": [],
   "source": [
    "\"\"\"二项分布是n个独立重复的是/非试验中成功次数的离散概率分布，这些概率是固定不变的，\n",
    "与试验结果无关。\n",
    "设想你来到了一个17世纪的赌场，正在对一个硬币赌博游戏下8份赌注。每一轮抛9枚硬币，\n",
    "如果少于5枚硬币正面朝上，你将损失8份赌注中的1份；否则，你将赢得1份赌注。我们来模拟\n",
    "一下赌博的过程，初始资本为1000份赌注。为此，我们需要使用random模块中的binomial\n",
    "函数。\"\"\"\n",
    "cash = np.zeros(10000)"
   ]
  },
  {
   "cell_type": "code",
   "execution_count": 58,
   "metadata": {},
   "outputs": [
    {
     "data": {
      "text/plain": [
       "array([0., 0., 0., ..., 0., 0., 0.])"
      ]
     },
     "execution_count": 58,
     "metadata": {},
     "output_type": "execute_result"
    }
   ],
   "source": [
    "cash"
   ]
  },
  {
   "cell_type": "code",
   "execution_count": 59,
   "metadata": {},
   "outputs": [],
   "source": [
    "cash[0] = 1000"
   ]
  },
  {
   "cell_type": "code",
   "execution_count": 60,
   "metadata": {},
   "outputs": [],
   "source": [
    "outcome = np.random.binomial(9,0.5, size=len(cash))"
   ]
  },
  {
   "cell_type": "code",
   "execution_count": 61,
   "metadata": {},
   "outputs": [
    {
     "data": {
      "text/plain": [
       "array([6, 2, 4, ..., 0, 6, 5])"
      ]
     },
     "execution_count": 61,
     "metadata": {},
     "output_type": "execute_result"
    }
   ],
   "source": [
    "outcome"
   ]
  },
  {
   "cell_type": "code",
   "execution_count": 62,
   "metadata": {},
   "outputs": [
    {
     "data": {
      "text/plain": [
       "10000"
      ]
     },
     "execution_count": 62,
     "metadata": {},
     "output_type": "execute_result"
    }
   ],
   "source": [
    "len(outcome)"
   ]
  },
  {
   "cell_type": "code",
   "execution_count": 65,
   "metadata": {},
   "outputs": [
    {
     "name": "stdout",
     "output_type": "stream",
     "text": [
      "0 9\n"
     ]
    }
   ],
   "source": [
    "for i in range(len(cash)):\n",
    "    if outcome[i] < 5:\n",
    "        cash[i] = cash[i-1] - 1\n",
    "    elif outcome[i] < 10:\n",
    "        cash[i] = cash[i-1] + 1\n",
    "    else:\n",
    "        raise AssertionError(\"UnExcepted outcome \"+ outcome)\n",
    "print(outcome.min(), outcome.max())"
   ]
  },
  {
   "cell_type": "code",
   "execution_count": 66,
   "metadata": {},
   "outputs": [
    {
     "data": {
      "image/png": "[encoded data removed]",
      "text/plain": [
       "<Figure size 432x288 with 1 Axes>"
      ]
     },
     "metadata": {
      "needs_background": "light"
     },
     "output_type": "display_data"
    }
   ],
   "source": [
    "plt.plot(np.arange(len(cash)), cash)\n",
    "plt.show()"
   ]
  },
  {
   "cell_type": "code",
   "execution_count": 67,
   "metadata": {},
   "outputs": [
    {
     "data": {
      "text/plain": [
       "'超几何分布（hypergeometric distribution）是一种离散概率分布，它描述的是一个罐子里有\\n两种物件，无放回地从中抽取指定数量的物件后，抽出指定种类物件的数量。NumPy random模\\n块中的hypergeometric函数可以模拟这种分布。'"
      ]
     },
     "execution_count": 67,
     "metadata": {},
     "output_type": "execute_result"
    }
   ],
   "source": [
    "\"\"\"超几何分布（hypergeometric distribution）是一种离散概率分布，它描述的是一个罐子里有\n",
    "两种物件，无放回地从中抽取指定数量的物件后，抽出指定种类物件的数量。NumPy random模\n",
    "块中的hypergeometric函数可以模拟这种分布。\"\"\""
   ]
  },
  {
   "cell_type": "code",
   "execution_count": 68,
   "metadata": {},
   "outputs": [],
   "source": [
    "\"\"\"使用hypergeometric函数初始化游戏的结果矩阵。该函数的第一个参数为罐中普通球\n",
    "的数量，第二个参数为“倒霉球”的数量，第三个参数为每次采样（摸球）的数量。\"\"\"\n",
    "points = np.zeros(100)\n",
    "outcomes = np.random.hypergeometric(25,1,3, size=len(points))"
   ]
  },
  {
   "cell_type": "code",
   "execution_count": 69,
   "metadata": {},
   "outputs": [],
   "source": [
    "for i in range(len(points)):\n",
    "    if outcomes[i] == 3:\n",
    "        points[i] = points[i-1] + 1\n",
    "    elif outcomes[i] == 2:\n",
    "        points[i] = points[i-1] - 6\n",
    "    else:\n",
    "        print(outcomes[i])"
   ]
  },
  {
   "cell_type": "code",
   "execution_count": 70,
   "metadata": {},
   "outputs": [
    {
     "data": {
      "text/plain": [
       "array([3, 3, 3, 3, 3, 3, 3, 2, 2, 3, 3, 3, 2, 3, 3, 3, 3, 3, 3, 3, 3, 3,\n",
       "       3, 3, 2, 3, 3, 3, 3, 3, 3, 3, 3, 3, 3, 3, 3, 3, 3, 3, 3, 3, 3, 3,\n",
       "       3, 3, 3, 3, 3, 3, 2, 3, 3, 3, 3, 3, 3, 3, 3, 3, 3, 3, 3, 3, 3, 3,\n",
       "       3, 3, 3, 3, 3, 3, 3, 3, 3, 3, 3, 3, 3, 3, 3, 3, 2, 3, 3, 3, 3, 3,\n",
       "       3, 3, 2, 3, 3, 3, 3, 3, 3, 3, 3, 3])"
      ]
     },
     "execution_count": 70,
     "metadata": {},
     "output_type": "execute_result"
    }
   ],
   "source": [
    "outcomes"
   ]
  },
  {
   "cell_type": "code",
   "execution_count": 74,
   "metadata": {},
   "outputs": [
    {
     "data": {
      "image/png": "[encoded data removed]",
      "text/plain": [
       "<Figure size 432x288 with 1 Axes>"
      ]
     },
     "metadata": {
      "needs_background": "light"
     },
     "output_type": "display_data"
    }
   ],
   "source": [
    "plt.plot(np.arange(len(points)), points)\n",
    "plt.show()"
   ]
  },
  {
   "cell_type": "code",
   "execution_count": 75,
   "metadata": {},
   "outputs": [
    {
     "data": {
      "text/plain": [
       "'连续分布可以用PDF（Probability Density Function，概率密度函数）来描述。随机变量落在某\\n一区间内的概率等于概率密度函数在该区间的曲线下方的面积。NumPy的random模块中有一系列\\n连续分布的函数——beta、chisquare、exponential、f、gamma、gumbel、laplace、lognormal、\\nlogistic、multivariate_normal、noncentral_chisquare、noncentral_f、normal等。'"
      ]
     },
     "execution_count": 75,
     "metadata": {},
     "output_type": "execute_result"
    }
   ],
   "source": [
    "\"\"\"连续分布可以用PDF（Probability Density Function，概率密度函数）来描述。随机变量落在某\n",
    "一区间内的概率等于概率密度函数在该区间的曲线下方的面积。NumPy的random模块中有一系列\n",
    "连续分布的函数——beta、chisquare、exponential、f、gamma、gumbel、laplace、lognormal、\n",
    "logistic、multivariate_normal、noncentral_chisquare、noncentral_f、normal等。\"\"\""
   ]
  },
  {
   "cell_type": "code",
   "execution_count": 76,
   "metadata": {},
   "outputs": [],
   "source": [
    "# 随机数可以从正态分布中产生，它们的直方图能够直观地刻画正态分布\n",
    "N = 10000\n",
    "normal_values = np.random.normal(size=N)"
   ]
  },
  {
   "cell_type": "code",
   "execution_count": 97,
   "metadata": {},
   "outputs": [
    {
     "data": {
      "image/png": "[encoded data removed]",
      "text/plain": [
       "<Figure size 432x288 with 1 Axes>"
      ]
     },
     "metadata": {
      "needs_background": "light"
     },
     "output_type": "display_data"
    }
   ],
   "source": [
    "num_bins = 50\n",
    "n, bins, patches = plt.hist(normal_values,int(np.sqrt(N)),density=True, facecolor=\"blue\",alpha=0.5,lw=1)\n",
    "sigma = 1\n",
    "mu = 0\n",
    "plt.plot(bins, 1/(sigma * np.sqrt(2*np.pi))*np.exp(-(bins - mu)**2/(2*sigma**2)),lw=2)\n",
    "plt.show()"
   ]
  },
  {
   "cell_type": "code",
   "execution_count": 98,
   "metadata": {},
   "outputs": [],
   "source": [
    "\"\"\"对数正态分布（lognormal distribution） 是自然对数服从正态分布的任意随机变量的概率分\n",
    "布。NumPy random模块中的lognormal函数模拟了这个分布。\"\"\"\n",
    "N = 10000\n",
    "lognormal_values = np.random.lognormal(size=N)"
   ]
  },
  {
   "cell_type": "code",
   "execution_count": 99,
   "metadata": {},
   "outputs": [
    {
     "data": {
      "text/plain": [
       "array([0.2488356 , 1.96999544, 0.96078575, ..., 1.66081742, 0.90002453,\n",
       "       0.57568191])"
      ]
     },
     "execution_count": 99,
     "metadata": {},
     "output_type": "execute_result"
    }
   ],
   "source": [
    "lognormal_values"
   ]
  },
  {
   "cell_type": "code",
   "execution_count": 105,
   "metadata": {},
   "outputs": [
    {
     "data": {
      "image/png": "[encoded data removed]",
      "text/plain": [
       "<Figure size 432x288 with 1 Axes>"
      ]
     },
     "metadata": {
      "needs_background": "light"
     },
     "output_type": "display_data"
    }
   ],
   "source": [
    "dummy, bins, dummy = plt.hist(lognormal_values,int(np.sqrt(N)), density=True, lw=1)\n",
    "sigma = 1\n",
    "mu = 0\n",
    "x = np.linspace(min(bins),max(bins),len(bins))\n",
    "pdf = np.exp(-(np.log(x) - mu)**2/(2*sigma**2))/(x*sigma*np.sqrt(2*np.pi))\n",
    "plt.plot(x,pdf,lw=3)\n",
    "plt.show()"
   ]
  },
  {
   "cell_type": "code",
   "execution_count": 106,
   "metadata": {},
   "outputs": [
    {
     "data": {
      "text/plain": [
       "'NumPy提供了多种排序函数，如下所示：\\n\\uf071 sort函数返回排序后的数组；\\n\\uf071 lexsort函数根据键值的字典序进行排序；\\n\\uf071 argsort函数返回输入数组排序后的下标；\\n\\uf071 ndarray类的sort方法可对数组进行原地排序；\\n\\uf071 msort函数沿着第一个轴排序；\\n\\uf071 sort_complex函数对复数按照先实部后虚部的顺序进行排序。\\n在上面的列表中，argsort和sort函数可用来对NumPy数组类型进行排序。'"
      ]
     },
     "execution_count": 106,
     "metadata": {},
     "output_type": "execute_result"
    }
   ],
   "source": [
    "\"\"\"NumPy提供了多种排序函数，如下所示：\n",
    " sort函数返回排序后的数组；\n",
    " lexsort函数根据键值的字典序进行排序；\n",
    " argsort函数返回输入数组排序后的下标；\n",
    " ndarray类的sort方法可对数组进行原地排序；\n",
    " msort函数沿着第一个轴排序；\n",
    " sort_complex函数对复数按照先实部后虚部的顺序进行排序。\n",
    "在上面的列表中，argsort和sort函数可用来对NumPy数组类型进行排序。\"\"\""
   ]
  },
  {
   "cell_type": "code",
   "execution_count": 131,
   "metadata": {},
   "outputs": [],
   "source": [
    "import datetime\n",
    "def datestr2num(s):\n",
    "    return datetime.datetime.strptime(s.decode(\"ascii\"),\"%d-%m-%Y\").toordinal()"
   ]
  },
  {
   "cell_type": "code",
   "execution_count": 132,
   "metadata": {
    "scrolled": true
   },
   "outputs": [],
   "source": [
    "dates, closes = np.loadtxt(\"AAPL.csv\", delimiter=',',usecols=(1,6),converters={1:datestr2num}, unpack=True)"
   ]
  },
  {
   "cell_type": "code",
   "execution_count": 133,
   "metadata": {},
   "outputs": [
    {
     "data": {
      "text/plain": [
       "array([734165., 734168., 734169., 734170., 734171., 734172., 734175.,\n",
       "       734176., 734177., 734178., 734179., 734182., 734183., 734184.,\n",
       "       734185., 734186., 734190., 734191., 734192., 734193., 734196.,\n",
       "       734197., 734198., 734199., 734200., 734203., 734204., 734205.,\n",
       "       734206., 734207.])"
      ]
     },
     "execution_count": 133,
     "metadata": {},
     "output_type": "execute_result"
    }
   ],
   "source": [
    "dates"
   ]
  },
  {
   "cell_type": "code",
   "execution_count": 134,
   "metadata": {},
   "outputs": [],
   "source": [
    "indices = np.lexsort((dates,closes))"
   ]
  },
  {
   "cell_type": "code",
   "execution_count": 135,
   "metadata": {},
   "outputs": [
    {
     "data": {
      "text/plain": [
       "array([ 0, 16,  1, 17, 18,  4,  3,  2,  5, 28, 19, 21, 15,  6, 29, 22, 27,\n",
       "       20,  9,  7, 25, 26, 10,  8, 14, 11, 23, 12, 24, 13], dtype=int64)"
      ]
     },
     "execution_count": 135,
     "metadata": {},
     "output_type": "execute_result"
    }
   ],
   "source": [
    "indices"
   ]
  },
  {
   "cell_type": "code",
   "execution_count": 150,
   "metadata": {
    "scrolled": true
   },
   "outputs": [
    {
     "name": "stdout",
     "output_type": "stream",
     "text": [
      "['2011-01-28 336.1', '2011-02-22 338.61', '2011-01-31 339.32', '2011-02-23 342.62', '2011-02-24 342.88', '2011-02-03 343.44', '2011-02-02 344.32', '2011-02-01 345.03', '2011-02-04 346.5', '2011-03-10 346.67', '2011-02-25 348.16', '2011-03-01 349.31', '2011-02-18 350.56', '2011-02-07 351.88', '2011-03-11 351.99', '2011-03-02 352.12', '2011-03-09 352.47', '2011-02-28 353.21', '2011-02-10 354.54', '2011-02-08 355.2', '2011-03-07 355.36', '2011-03-08 355.76', '2011-02-11 356.85', '2011-02-09 358.16', '2011-02-17 358.3', '2011-02-14 359.18', '2011-03-03 359.56', '2011-02-15 359.9', '2011-03-04 360.0', '2011-02-16 363.13']\n"
     ]
    }
   ],
   "source": [
    "print([\"%s %s\"%(datetime.date.fromordinal(int(dates[i])), closes[i]) for i in indices])"
   ]
  },
  {
   "cell_type": "code",
   "execution_count": 152,
   "metadata": {},
   "outputs": [
    {
     "data": {
      "text/plain": [
       "'复数包含实数部分和虚数部分。如同在前面的章节中提到的，NumPy中有专门的复数类型，\\n使用两个浮点数来表示复数。这些复数可以使用NumPy的sort_complex函数进行排序。该函数\\n按照先实部后虚部的顺序排序。'"
      ]
     },
     "execution_count": 152,
     "metadata": {},
     "output_type": "execute_result"
    }
   ],
   "source": [
    "\"\"\"复数包含实数部分和虚数部分。如同在前面的章节中提到的，NumPy中有专门的复数类型，\n",
    "使用两个浮点数来表示复数。这些复数可以使用NumPy的sort_complex函数进行排序。该函数\n",
    "按照先实部后虚部的顺序排序。\"\"\""
   ]
  },
  {
   "cell_type": "code",
   "execution_count": 153,
   "metadata": {},
   "outputs": [],
   "source": [
    "np.random.seed(42)"
   ]
  },
  {
   "cell_type": "code",
   "execution_count": 154,
   "metadata": {},
   "outputs": [],
   "source": [
    "complex_numbers = np.random.random(5) + 1j*np.random.random(5)"
   ]
  },
  {
   "cell_type": "code",
   "execution_count": 155,
   "metadata": {},
   "outputs": [
    {
     "data": {
      "text/plain": [
       "array([0.37454012+0.15599452j, 0.95071431+0.05808361j,\n",
       "       0.73199394+0.86617615j, 0.59865848+0.60111501j,\n",
       "       0.15601864+0.70807258j])"
      ]
     },
     "execution_count": 155,
     "metadata": {},
     "output_type": "execute_result"
    }
   ],
   "source": [
    "complex_numbers"
   ]
  },
  {
   "cell_type": "code",
   "execution_count": 156,
   "metadata": {},
   "outputs": [
    {
     "data": {
      "text/plain": [
       "array([0.15601864+0.70807258j, 0.37454012+0.15599452j,\n",
       "       0.59865848+0.60111501j, 0.73199394+0.86617615j,\n",
       "       0.95071431+0.05808361j])"
      ]
     },
     "execution_count": 156,
     "metadata": {},
     "output_type": "execute_result"
    }
   ],
   "source": [
    "np.sort_complex(complex_numbers)"
   ]
  },
  {
   "cell_type": "code",
   "execution_count": 157,
   "metadata": {},
   "outputs": [],
   "source": [
    "a= np.array([2,4,8])"
   ]
  },
  {
   "cell_type": "code",
   "execution_count": 158,
   "metadata": {},
   "outputs": [
    {
     "data": {
      "text/plain": [
       "2"
      ]
     },
     "execution_count": 158,
     "metadata": {},
     "output_type": "execute_result"
    }
   ],
   "source": [
    "np.argmax(a)"
   ]
  },
  {
   "cell_type": "code",
   "execution_count": 159,
   "metadata": {},
   "outputs": [],
   "source": [
    "a = np.array([[1,2,3,4],[4,5,6,7]])"
   ]
  },
  {
   "cell_type": "code",
   "execution_count": 160,
   "metadata": {},
   "outputs": [
    {
     "data": {
      "text/plain": [
       "array([[0, 0],\n",
       "       [0, 1],\n",
       "       [0, 2],\n",
       "       [0, 3],\n",
       "       [1, 0]], dtype=int64)"
      ]
     },
     "execution_count": 160,
     "metadata": {},
     "output_type": "execute_result"
    }
   ],
   "source": [
    "np.argwhere(a<=4)"
   ]
  },
  {
   "cell_type": "code",
   "execution_count": 161,
   "metadata": {},
   "outputs": [],
   "source": [
    "a = np.arange(5)"
   ]
  },
  {
   "cell_type": "code",
   "execution_count": 162,
   "metadata": {},
   "outputs": [],
   "source": [
    "indices = np.searchsorted(a,[-2,7])"
   ]
  },
  {
   "cell_type": "code",
   "execution_count": 163,
   "metadata": {},
   "outputs": [
    {
     "data": {
      "text/plain": [
       "array([0, 5], dtype=int64)"
      ]
     },
     "execution_count": 163,
     "metadata": {},
     "output_type": "execute_result"
    }
   ],
   "source": [
    "indices"
   ]
  },
  {
   "cell_type": "code",
   "execution_count": 164,
   "metadata": {},
   "outputs": [
    {
     "name": "stdout",
     "output_type": "stream",
     "text": [
      "[0 5]\n"
     ]
    }
   ],
   "source": [
    "print(indices)"
   ]
  },
  {
   "cell_type": "code",
   "execution_count": 165,
   "metadata": {},
   "outputs": [
    {
     "data": {
      "text/plain": [
       "array([0, 1, 2, 3, 4])"
      ]
     },
     "execution_count": 165,
     "metadata": {},
     "output_type": "execute_result"
    }
   ],
   "source": [
    "a"
   ]
  },
  {
   "cell_type": "code",
   "execution_count": 166,
   "metadata": {},
   "outputs": [
    {
     "data": {
      "text/plain": [
       "array([-2,  0,  1,  2,  3,  4,  7])"
      ]
     },
     "execution_count": 166,
     "metadata": {},
     "output_type": "execute_result"
    }
   ],
   "source": [
    "np.insert(a, indices, [-2,7])"
   ]
  },
  {
   "cell_type": "code",
   "execution_count": 167,
   "metadata": {},
   "outputs": [],
   "source": [
    "a = np.arange(7)"
   ]
  },
  {
   "cell_type": "code",
   "execution_count": 168,
   "metadata": {},
   "outputs": [],
   "source": [
    "condition = (a%2)==0"
   ]
  },
  {
   "cell_type": "code",
   "execution_count": 169,
   "metadata": {},
   "outputs": [
    {
     "data": {
      "text/plain": [
       "array([ True, False,  True, False,  True, False,  True])"
      ]
     },
     "execution_count": 169,
     "metadata": {},
     "output_type": "execute_result"
    }
   ],
   "source": [
    "condition"
   ]
  },
  {
   "cell_type": "code",
   "execution_count": 170,
   "metadata": {},
   "outputs": [
    {
     "data": {
      "text/plain": [
       "array([0, 2, 4, 6])"
      ]
     },
     "execution_count": 170,
     "metadata": {},
     "output_type": "execute_result"
    }
   ],
   "source": [
    "np.extract(condition, a)"
   ]
  },
  {
   "cell_type": "code",
   "execution_count": 171,
   "metadata": {},
   "outputs": [
    {
     "data": {
      "text/plain": [
       "(array([1, 2, 3, 4, 5, 6], dtype=int64),)"
      ]
     },
     "execution_count": 171,
     "metadata": {},
     "output_type": "execute_result"
    }
   ],
   "source": [
    "np.nonzero(a)"
   ]
  },
  {
   "cell_type": "code",
   "execution_count": null,
   "metadata": {},
   "outputs": [],
   "source": []
  }
 ],
 "metadata": {
  "kernelspec": {
   "display_name": "Python 3",
   "language": "python",
   "name": "python3"
  },
  "language_info": {
   "codemirror_mode": {
    "name": "ipython",
    "version": 3
   },
   "file_extension": ".py",
   "mimetype": "text/x-python",
   "name": "python",
   "nbconvert_exporter": "python",
   "pygments_lexer": "ipython3",
   "version": "3.8.5"
  }
 },
 "nbformat": 4,
 "nbformat_minor": 4
}
