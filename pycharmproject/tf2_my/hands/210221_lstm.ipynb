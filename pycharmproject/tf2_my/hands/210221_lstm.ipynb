{
 "cells": [
  {
   "cell_type": "code",
   "execution_count": 1,
   "metadata": {},
   "outputs": [],
   "source": [
    "import os\n",
    "import numpy as np\n",
    "import pandas as pd\n",
    "import tensorflow as tf\n",
    "import math\n",
    "import matplotlib.pyplot as plt\n",
    "from tensorflow.keras.layers import Dense, Dropout, LSTM\n",
    "from sklearn.preprocessing import MinMaxScaler\n",
    "from sklearn.metrics import mean_squared_error, mean_absolute_error"
   ]
  },
  {
   "cell_type": "code",
   "execution_count": 17,
   "metadata": {},
   "outputs": [],
   "source": [
    "maotai = pd.read_csv(\"./SH600519.csv\")"
   ]
  },
  {
   "cell_type": "code",
   "execution_count": 24,
   "metadata": {},
   "outputs": [],
   "source": [
    "train_set = maotai.iloc[0:2425-300,2:3].values\n",
    "test_set = maotai.iloc[2425-300:, 2:3].values"
   ]
  },
  {
   "cell_type": "code",
   "execution_count": 25,
   "metadata": {},
   "outputs": [
    {
     "data": {
      "text/plain": [
       "array([[5.726],\n",
       "       [5.785],\n",
       "       [5.823],\n",
       "       ...,\n",
       "       [2.56 ],\n",
       "       [2.54 ],\n",
       "       [2.6  ]])"
      ]
     },
     "execution_count": 25,
     "metadata": {},
     "output_type": "execute_result"
    }
   ],
   "source": [
    "train_set"
   ]
  },
  {
   "cell_type": "code",
   "execution_count": 26,
   "metadata": {},
   "outputs": [],
   "source": [
    "sc = MinMaxScaler(feature_range=(0,1))\n",
    "train_set_scaled = sc.fit_transform(train_set)\n",
    "test_set_scaled = sc.transform(test_set)"
   ]
  },
  {
   "cell_type": "code",
   "execution_count": 36,
   "metadata": {},
   "outputs": [],
   "source": [
    "x_train, y_train = [],[]\n",
    "x_test, y_test = [],[]\n",
    "for i in range(60, len(train_set_scaled)):\n",
    "    x_train.append(train_set_scaled[i-60:i, 0])\n",
    "    y_train.append(train_set_scaled[i,0])"
   ]
  },
  {
   "cell_type": "code",
   "execution_count": 37,
   "metadata": {},
   "outputs": [],
   "source": [
    "np.random.seed(7)\n",
    "np.random.shuffle(x_train)\n",
    "np.random.seed(7)\n",
    "np.random.shuffle(y_train)\n",
    "tf.random.set_seed(7)"
   ]
  },
  {
   "cell_type": "code",
   "execution_count": 38,
   "metadata": {},
   "outputs": [],
   "source": [
    "x_train, y_train = np.array(x_train), np.array(y_train)\n",
    "x_train = np.reshape(x_train, (x_train.shape[0], 60, 1))"
   ]
  },
  {
   "cell_type": "code",
   "execution_count": 39,
   "metadata": {},
   "outputs": [],
   "source": [
    "for i in range(60,len(test_set_scaled)):\n",
    "    x_test.append(test_set_scaled[i-60:i,0])\n",
    "    y_test.append(test_set_scaled[i, 0])"
   ]
  },
  {
   "cell_type": "code",
   "execution_count": 40,
   "metadata": {},
   "outputs": [],
   "source": [
    "x_test, y_test = np.array(x_test), np.array(y_test)\n",
    "x_test = np.reshape(x_test, (x_test.shape[0], 60, 1))"
   ]
  },
  {
   "cell_type": "code",
   "execution_count": 41,
   "metadata": {},
   "outputs": [
    {
     "name": "stdout",
     "output_type": "stream",
     "text": [
      "Epoch 1/50\n",
      "65/65 [==============================] - 6s 46ms/step - loss: 0.0120 - val_loss: 2.0243e-04\n",
      "Epoch 2/50\n",
      "65/65 [==============================] - 2s 30ms/step - loss: 0.0019 - val_loss: 2.0016e-04\n",
      "Epoch 3/50\n",
      "65/65 [==============================] - 2s 35ms/step - loss: 0.0014 - val_loss: 2.4195e-04\n",
      "Epoch 4/50\n",
      "65/65 [==============================] - 2s 35ms/step - loss: 0.0011 - val_loss: 1.8764e-04\n",
      "Epoch 5/50\n",
      "65/65 [==============================] - 2s 35ms/step - loss: 0.0016 - val_loss: 1.7482e-04\n",
      "Epoch 6/50\n",
      "65/65 [==============================] - 2s 35ms/step - loss: 9.8611e-04 - val_loss: 2.2532e-04\n",
      "Epoch 7/50\n",
      "65/65 [==============================] - 2s 35ms/step - loss: 0.0011 - val_loss: 1.3891e-04\n",
      "Epoch 8/50\n",
      "65/65 [==============================] - 2s 35ms/step - loss: 9.6206e-04 - val_loss: 1.5041e-04\n",
      "Epoch 9/50\n",
      "65/65 [==============================] - 2s 35ms/step - loss: 0.0010 - val_loss: 1.5522e-04\n",
      "Epoch 10/50\n",
      "65/65 [==============================] - 2s 34ms/step - loss: 9.9840e-04 - val_loss: 1.4936e-04\n",
      "Epoch 11/50\n",
      "65/65 [==============================] - 2s 34ms/step - loss: 0.0011 - val_loss: 1.5048e-04\n",
      "Epoch 12/50\n",
      "65/65 [==============================] - 2s 35ms/step - loss: 9.7441e-04 - val_loss: 1.3435e-04\n",
      "Epoch 13/50\n",
      "65/65 [==============================] - 2s 35ms/step - loss: 7.9210e-04 - val_loss: 1.1113e-04\n",
      "Epoch 14/50\n",
      "65/65 [==============================] - 2s 35ms/step - loss: 7.4951e-04 - val_loss: 1.1305e-04\n",
      "Epoch 15/50\n",
      "65/65 [==============================] - 2s 35ms/step - loss: 9.3463e-04 - val_loss: 1.1652e-04\n",
      "Epoch 16/50\n",
      "65/65 [==============================] - 2s 35ms/step - loss: 7.8529e-04 - val_loss: 1.2619e-04\n",
      "Epoch 17/50\n",
      "65/65 [==============================] - 2s 35ms/step - loss: 8.4771e-04 - val_loss: 1.1427e-04\n",
      "Epoch 18/50\n",
      "65/65 [==============================] - 2s 35ms/step - loss: 8.6435e-04 - val_loss: 1.6496e-04\n",
      "Epoch 19/50\n",
      "65/65 [==============================] - 2s 35ms/step - loss: 6.6341e-04 - val_loss: 1.1558e-04\n",
      "Epoch 20/50\n",
      "65/65 [==============================] - 2s 35ms/step - loss: 9.2426e-04 - val_loss: 1.4507e-04\n",
      "Epoch 21/50\n",
      "65/65 [==============================] - 2s 35ms/step - loss: 6.5966e-04 - val_loss: 1.0402e-04\n",
      "Epoch 22/50\n",
      "65/65 [==============================] - 2s 35ms/step - loss: 7.6107e-04 - val_loss: 1.0691e-04\n",
      "Epoch 23/50\n",
      "65/65 [==============================] - 2s 35ms/step - loss: 6.5274e-04 - val_loss: 1.0351e-04\n",
      "Epoch 24/50\n",
      "65/65 [==============================] - 2s 35ms/step - loss: 7.4640e-04 - val_loss: 9.7350e-05\n",
      "Epoch 25/50\n",
      "65/65 [==============================] - 2s 34ms/step - loss: 7.9260e-04 - val_loss: 9.9728e-05\n",
      "Epoch 26/50\n",
      "65/65 [==============================] - 2s 35ms/step - loss: 6.0444e-04 - val_loss: 1.1830e-04\n",
      "Epoch 27/50\n",
      "65/65 [==============================] - 2s 35ms/step - loss: 6.7651e-04 - val_loss: 1.2272e-04\n",
      "Epoch 28/50\n",
      "65/65 [==============================] - 2s 35ms/step - loss: 6.6016e-04 - val_loss: 1.1209e-04\n",
      "Epoch 29/50\n",
      "65/65 [==============================] - 2s 35ms/step - loss: 7.4881e-04 - val_loss: 1.0546e-04\n",
      "Epoch 30/50\n",
      "65/65 [==============================] - 2s 35ms/step - loss: 6.6230e-04 - val_loss: 1.0224e-04\n",
      "Epoch 31/50\n",
      "65/65 [==============================] - 2s 35ms/step - loss: 7.5952e-04 - val_loss: 1.8210e-04\n",
      "Epoch 32/50\n",
      "65/65 [==============================] - 2s 35ms/step - loss: 6.1268e-04 - val_loss: 9.3625e-05\n",
      "Epoch 33/50\n",
      "65/65 [==============================] - 2s 35ms/step - loss: 7.8120e-04 - val_loss: 8.9972e-05\n",
      "Epoch 34/50\n",
      "65/65 [==============================] - 2s 35ms/step - loss: 5.5113e-04 - val_loss: 1.8733e-04\n",
      "Epoch 35/50\n",
      "65/65 [==============================] - 2s 35ms/step - loss: 6.7040e-04 - val_loss: 1.1089e-04\n",
      "Epoch 36/50\n",
      "65/65 [==============================] - 2s 35ms/step - loss: 6.2763e-04 - val_loss: 8.9310e-05\n",
      "Epoch 37/50\n",
      "65/65 [==============================] - 2s 35ms/step - loss: 5.8500e-04 - val_loss: 9.7474e-05\n",
      "Epoch 38/50\n",
      "65/65 [==============================] - 2s 35ms/step - loss: 6.6700e-04 - val_loss: 1.1127e-04\n",
      "Epoch 39/50\n",
      "65/65 [==============================] - 2s 35ms/step - loss: 6.0055e-04 - val_loss: 9.8422e-05\n",
      "Epoch 40/50\n",
      "65/65 [==============================] - 2s 35ms/step - loss: 5.8463e-04 - val_loss: 1.1720e-04\n",
      "Epoch 41/50\n",
      "65/65 [==============================] - 2s 35ms/step - loss: 6.4785e-04 - val_loss: 9.3988e-05\n",
      "Epoch 42/50\n",
      "65/65 [==============================] - 2s 35ms/step - loss: 6.2823e-04 - val_loss: 1.9770e-04\n",
      "Epoch 43/50\n",
      "65/65 [==============================] - 2s 35ms/step - loss: 5.7761e-04 - val_loss: 1.9566e-04\n",
      "Epoch 44/50\n",
      "65/65 [==============================] - 2s 35ms/step - loss: 6.5259e-04 - val_loss: 1.0632e-04\n",
      "Epoch 45/50\n",
      "65/65 [==============================] - 2s 35ms/step - loss: 5.0849e-04 - val_loss: 2.0870e-04\n",
      "Epoch 46/50\n",
      "65/65 [==============================] - 2s 35ms/step - loss: 5.9621e-04 - val_loss: 1.2555e-04\n",
      "Epoch 47/50\n",
      "65/65 [==============================] - 2s 35ms/step - loss: 5.8175e-04 - val_loss: 1.1193e-04\n",
      "Epoch 48/50\n",
      "65/65 [==============================] - 2s 35ms/step - loss: 5.6830e-04 - val_loss: 9.1436e-05\n",
      "Epoch 49/50\n",
      "65/65 [==============================] - 2s 35ms/step - loss: 5.7423e-04 - val_loss: 8.1404e-05\n",
      "Epoch 50/50\n",
      "65/65 [==============================] - 2s 35ms/step - loss: 5.5918e-04 - val_loss: 8.6937e-05\n",
      "Model: \"sequential_1\"\n",
      "_________________________________________________________________\n",
      "Layer (type)                 Output Shape              Param #   \n",
      "=================================================================\n",
      "lstm_2 (LSTM)                (None, 60, 80)            26240     \n",
      "_________________________________________________________________\n",
      "dropout_2 (Dropout)          (None, 60, 80)            0         \n",
      "_________________________________________________________________\n",
      "lstm_3 (LSTM)                (None, 100)               72400     \n",
      "_________________________________________________________________\n",
      "dropout_3 (Dropout)          (None, 100)               0         \n",
      "_________________________________________________________________\n",
      "dense_1 (Dense)              (None, 1)                 101       \n",
      "=================================================================\n",
      "Total params: 98,741\n",
      "Trainable params: 98,741\n",
      "Non-trainable params: 0\n",
      "_________________________________________________________________\n"
     ]
    }
   ],
   "source": [
    "model = tf.keras.models.Sequential([\n",
    "    LSTM(80, return_sequences=True),\n",
    "    Dropout(0.2),\n",
    "    LSTM(100, return_sequences=False),\n",
    "    Dropout(0.2),\n",
    "    Dense(1)\n",
    "])\n",
    "\n",
    "model.compile(optimizer=tf.keras.optimizers.Adam(0.001),\n",
    "             loss = 'mean_squared_error')\n",
    "\n",
    "model_save_path = 'maotai_LSTM_checkpoint/LSTM_stock.ckpt'\n",
    "if os.path.exists(model_save_path+'.index'):\n",
    "    print(\"----------------load model-----------------\")\n",
    "    model.load_weights(model_save_path)\n",
    "    \n",
    "cp_callback = tf.keras.callbacks.ModelCheckpoint(filepath=model_save_path,\n",
    "                                                save_weights_only=True,\n",
    "                                                save_best_only=True,\n",
    "                                                monitor='val_loss')\n",
    "\n",
    "history = model.fit(x_train, y_train, batch_size=32, epochs=50, validation_data=(x_test, y_test), validation_freq=1,\n",
    "                   callbacks=[cp_callback])\n",
    "\n",
    "model.summary()"
   ]
  },
  {
   "cell_type": "code",
   "execution_count": 42,
   "metadata": {},
   "outputs": [
    {
     "data": {
      "image/png": "[encoded data removed]",
      "text/plain": [
       "<Figure size 432x288 with 1 Axes>"
      ]
     },
     "metadata": {
      "needs_background": "light"
     },
     "output_type": "display_data"
    }
   ],
   "source": [
    "with open(\"./lstm_maotai_weights.txt\", 'w') as f:\n",
    "    for v in model.trainable_variables:\n",
    "        f.write(str(v.name)+'\\n')\n",
    "        f.write(str(v.shape)+'\\n')\n",
    "        f.write(str(v.numpy())+'\\n')\n",
    "        \n",
    "loss = history.history['loss']\n",
    "val_loss = history.history['val_loss']\n",
    "\n",
    "plt.plot(loss, label='training loss')\n",
    "plt.plot(val_loss, label='validation loss')\n",
    "plt.title(\"training and validation loss\")\n",
    "plt.legend()\n",
    "plt.show()"
   ]
  },
  {
   "cell_type": "code",
   "execution_count": 46,
   "metadata": {},
   "outputs": [
    {
     "data": {
      "image/png": "[encoded data removed]",
      "text/plain": [
       "<Figure size 432x288 with 1 Axes>"
      ]
     },
     "metadata": {
      "needs_background": "light"
     },
     "output_type": "display_data"
    }
   ],
   "source": [
    "predicted_stock_price = model.predict(x_test)\n",
    "predicted = sc.inverse_transform(predicted_stock_price)\n",
    "real_price = sc.inverse_transform(test_set_scaled[60:])\n",
    "\n",
    "plt.plot(real_price, color = 'red', label='maotai stock price')\n",
    "plt.plot(predicted, color='blue', label='predicted maotai stock price')\n",
    "plt.title('maotai stock price prediction')\n",
    "plt.xlabel('time')\n",
    "plt.ylabel('maotai stock price')\n",
    "plt.legend()\n",
    "plt.show()"
   ]
  },
  {
   "cell_type": "code",
   "execution_count": 47,
   "metadata": {
    "scrolled": true
   },
   "outputs": [
    {
     "name": "stdout",
     "output_type": "stream",
     "text": [
      "0.005709544931779635\n",
      "0.07556153076651925\n",
      "0.05044126506679313\n"
     ]
    }
   ],
   "source": [
    "mse = mean_squared_error(predicted, real_price)\n",
    "rmse = math.sqrt(mse)\n",
    "mae = mean_absolute_error(predicted, real_price)\n",
    "print(mse)\n",
    "print(rmse)\n",
    "print(mae)"
   ]
  },
  {
   "cell_type": "code",
   "execution_count": null,
   "metadata": {},
   "outputs": [],
   "source": []
  }
 ],
 "metadata": {
  "kernelspec": {
   "display_name": "Python 3",
   "language": "python",
   "name": "python3"
  },
  "language_info": {
   "codemirror_mode": {
    "name": "ipython",
    "version": 3
   },
   "file_extension": ".py",
   "mimetype": "text/x-python",
   "name": "python",
   "nbconvert_exporter": "python",
   "pygments_lexer": "ipython3",
   "version": "3.8.5"
  }
 },
 "nbformat": 4,
 "nbformat_minor": 4
}
